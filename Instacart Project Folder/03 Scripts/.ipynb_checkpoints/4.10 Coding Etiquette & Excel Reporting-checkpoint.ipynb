{
 "cells": [
  {
   "cell_type": "markdown",
   "id": "b90dc0a1-ff59-472d-b8f3-77bc859e7f6f",
   "metadata": {},
   "source": [
    "### **INDEX**\n",
    "1. Setup Notebook\n",
    "2. Answering Business Questions\n",
    "   - 2.1 How does customer behavior differ per region?\n",
    "   - 2.2 How do spending habits among customers differ between regions?\n",
    "   - 2.3 Which data-driven customer profiles can we leverage to maximize the relevance and impact of our marketing strategies?\n",
    "3. Saving & Exporting "
   ]
  },
  {
   "cell_type": "markdown",
   "id": "792a9ec0-1cde-4d3e-803f-7aea621dab3a",
   "metadata": {},
   "source": [
    " . . . . . . . . . . . . . . . . . . . . . . . . . . . . . . . . . . . . . . . . . . . . . . . . . . . . . . . . . . . . . . . . . . . . . . . . . . . . . . . . . . . . . . . . . . . . . . . . . . . . . . . . . . . . . . . ."
   ]
  },
  {
   "cell_type": "markdown",
   "id": "189fe8aa-144c-48ba-9742-a8a5980fda5f",
   "metadata": {},
   "source": [
    "### **1. SETUP NOTEBOOK**"
   ]
  },
  {
   "cell_type": "code",
   "execution_count": 5,
   "id": "86add31f-a4d1-44fe-8419-f28ce851b374",
   "metadata": {},
   "outputs": [],
   "source": [
    "# import libraries\n",
    "import pandas as pd\n",
    "import numpy as np\n",
    "import os\n",
    "import matplotlib.pyplot as plt\n",
    "import seaborn as sns\n",
    "import scipy\n",
    "from pathlib import Path"
   ]
  },
  {
   "cell_type": "code",
   "execution_count": 6,
   "id": "49c2a185-a841-4f88-bb0e-68e3f9a012ca",
   "metadata": {},
   "outputs": [],
   "source": [
    "# get the current working directory as a Path object\n",
    "path = os.getcwd()\n",
    "\n",
    "# update the path to parent folder\n",
    "path = os.path.abspath(os.path.join(path, os.pardir))"
   ]
  },
  {
   "cell_type": "code",
   "execution_count": 7,
   "id": "af39fc92-bb0f-41a8-9f3b-8737bd40cc4e",
   "metadata": {},
   "outputs": [],
   "source": [
    "# import data containing order, product and customer data\n",
    "df_ords_prods_cust = pd.read_pickle(os.path.join(path, '02 Data', 'Prepared Data', 'ords_prods_cust.pkl'))"
   ]
  },
  {
   "cell_type": "code",
   "execution_count": 8,
   "id": "10a45ca1-16fa-4a20-a099-25b019b3053f",
   "metadata": {},
   "outputs": [],
   "source": [
    "# setting up color palette for plots\n",
    "palette = sns.color_palette(\"Accent\")"
   ]
  },
  {
   "cell_type": "code",
   "execution_count": 9,
   "id": "7fc2b2dd-a254-4cac-91fc-f5daeade490f",
   "metadata": {},
   "outputs": [],
   "source": [
    "# import departments.csv\n",
    "df_departments = pd.read_csv(os.path.join(path, '02 Data', 'Original Data', 'departments.csv'))"
   ]
  },
  {
   "cell_type": "code",
   "execution_count": 10,
   "id": "8e2e38fa-eea5-4875-8707-70aa0a2901e2",
   "metadata": {},
   "outputs": [
    {
     "data": {
      "text/plain": [
       "(27811929, 31)"
      ]
     },
     "execution_count": 10,
     "metadata": {},
     "output_type": "execute_result"
    }
   ],
   "source": [
    "# conducting initial data validation checks\n",
    "df_ords_prods_cust.shape"
   ]
  },
  {
   "cell_type": "code",
   "execution_count": 11,
   "id": "f37d5e7d-20be-4b8a-8116-390c3d1a5eb9",
   "metadata": {},
   "outputs": [
    {
     "data": {
      "text/plain": [
       "Index(['user_id', 'm/f', 'state', 'age', 'date_joined', 'n_dependants',\n",
       "       'maritial_status', 'income', 'order_number', 'orders_day_of_week',\n",
       "       'order_hour_of_day', 'days_since_last_order', 'first_order',\n",
       "       'product_id', 'add_to_cart_order', 'reordered', 'product_name',\n",
       "       'aisle_id', 'department_id', 'prices', 'busy_days',\n",
       "       'busiest_period_of_day', 'max_order', 'loyalty_flag',\n",
       "       'average_spending', 'spending_type', 'order_frequency', 'customer_type',\n",
       "       'region', 'activity_type', 'customer_profile'],\n",
       "      dtype='object')"
      ]
     },
     "execution_count": 11,
     "metadata": {},
     "output_type": "execute_result"
    }
   ],
   "source": [
    "df_ords_prods_cust.columns"
   ]
  },
  {
   "cell_type": "code",
   "execution_count": 12,
   "id": "d59d6eda-1b87-43e8-8d24-5079b86b6bad",
   "metadata": {},
   "outputs": [
    {
     "data": {
      "text/html": [
       "<div>\n",
       "<style scoped>\n",
       "    .dataframe tbody tr th:only-of-type {\n",
       "        vertical-align: middle;\n",
       "    }\n",
       "\n",
       "    .dataframe tbody tr th {\n",
       "        vertical-align: top;\n",
       "    }\n",
       "\n",
       "    .dataframe thead th {\n",
       "        text-align: right;\n",
       "    }\n",
       "</style>\n",
       "<table border=\"1\" class=\"dataframe\">\n",
       "  <thead>\n",
       "    <tr style=\"text-align: right;\">\n",
       "      <th></th>\n",
       "      <th>user_id</th>\n",
       "      <th>m/f</th>\n",
       "      <th>state</th>\n",
       "      <th>age</th>\n",
       "      <th>date_joined</th>\n",
       "      <th>n_dependants</th>\n",
       "      <th>maritial_status</th>\n",
       "      <th>income</th>\n",
       "      <th>order_number</th>\n",
       "      <th>orders_day_of_week</th>\n",
       "      <th>...</th>\n",
       "      <th>busiest_period_of_day</th>\n",
       "      <th>max_order</th>\n",
       "      <th>loyalty_flag</th>\n",
       "      <th>average_spending</th>\n",
       "      <th>spending_type</th>\n",
       "      <th>order_frequency</th>\n",
       "      <th>customer_type</th>\n",
       "      <th>region</th>\n",
       "      <th>activity_type</th>\n",
       "      <th>customer_profile</th>\n",
       "    </tr>\n",
       "  </thead>\n",
       "  <tbody>\n",
       "    <tr>\n",
       "      <th>0</th>\n",
       "      <td>26711</td>\n",
       "      <td>Female</td>\n",
       "      <td>Missouri</td>\n",
       "      <td>48</td>\n",
       "      <td>2017-01-01</td>\n",
       "      <td>3</td>\n",
       "      <td>married</td>\n",
       "      <td>165665</td>\n",
       "      <td>1</td>\n",
       "      <td>2</td>\n",
       "      <td>...</td>\n",
       "      <td>Fewest orders</td>\n",
       "      <td>8</td>\n",
       "      <td>New customer</td>\n",
       "      <td>7.988889</td>\n",
       "      <td>Low spender</td>\n",
       "      <td>19.0</td>\n",
       "      <td>Regular customer</td>\n",
       "      <td>Midwest</td>\n",
       "      <td>NaN</td>\n",
       "      <td>Conscious Shopper</td>\n",
       "    </tr>\n",
       "    <tr>\n",
       "      <th>1</th>\n",
       "      <td>26711</td>\n",
       "      <td>Female</td>\n",
       "      <td>Missouri</td>\n",
       "      <td>48</td>\n",
       "      <td>2017-01-01</td>\n",
       "      <td>3</td>\n",
       "      <td>married</td>\n",
       "      <td>165665</td>\n",
       "      <td>2</td>\n",
       "      <td>2</td>\n",
       "      <td>...</td>\n",
       "      <td>Fewest orders</td>\n",
       "      <td>8</td>\n",
       "      <td>New customer</td>\n",
       "      <td>7.988889</td>\n",
       "      <td>Low spender</td>\n",
       "      <td>19.0</td>\n",
       "      <td>Regular customer</td>\n",
       "      <td>Midwest</td>\n",
       "      <td>NaN</td>\n",
       "      <td>Conscious Shopper</td>\n",
       "    </tr>\n",
       "    <tr>\n",
       "      <th>2</th>\n",
       "      <td>26711</td>\n",
       "      <td>Female</td>\n",
       "      <td>Missouri</td>\n",
       "      <td>48</td>\n",
       "      <td>2017-01-01</td>\n",
       "      <td>3</td>\n",
       "      <td>married</td>\n",
       "      <td>165665</td>\n",
       "      <td>3</td>\n",
       "      <td>3</td>\n",
       "      <td>...</td>\n",
       "      <td>Fewest orders</td>\n",
       "      <td>8</td>\n",
       "      <td>New customer</td>\n",
       "      <td>7.988889</td>\n",
       "      <td>Low spender</td>\n",
       "      <td>19.0</td>\n",
       "      <td>Regular customer</td>\n",
       "      <td>Midwest</td>\n",
       "      <td>NaN</td>\n",
       "      <td>Conscious Shopper</td>\n",
       "    </tr>\n",
       "    <tr>\n",
       "      <th>3</th>\n",
       "      <td>26711</td>\n",
       "      <td>Female</td>\n",
       "      <td>Missouri</td>\n",
       "      <td>48</td>\n",
       "      <td>2017-01-01</td>\n",
       "      <td>3</td>\n",
       "      <td>married</td>\n",
       "      <td>165665</td>\n",
       "      <td>3</td>\n",
       "      <td>3</td>\n",
       "      <td>...</td>\n",
       "      <td>Fewest orders</td>\n",
       "      <td>8</td>\n",
       "      <td>New customer</td>\n",
       "      <td>7.988889</td>\n",
       "      <td>Low spender</td>\n",
       "      <td>19.0</td>\n",
       "      <td>Regular customer</td>\n",
       "      <td>Midwest</td>\n",
       "      <td>NaN</td>\n",
       "      <td>Conscious Shopper</td>\n",
       "    </tr>\n",
       "    <tr>\n",
       "      <th>4</th>\n",
       "      <td>26711</td>\n",
       "      <td>Female</td>\n",
       "      <td>Missouri</td>\n",
       "      <td>48</td>\n",
       "      <td>2017-01-01</td>\n",
       "      <td>3</td>\n",
       "      <td>married</td>\n",
       "      <td>165665</td>\n",
       "      <td>3</td>\n",
       "      <td>3</td>\n",
       "      <td>...</td>\n",
       "      <td>Fewest orders</td>\n",
       "      <td>8</td>\n",
       "      <td>New customer</td>\n",
       "      <td>7.988889</td>\n",
       "      <td>Low spender</td>\n",
       "      <td>19.0</td>\n",
       "      <td>Regular customer</td>\n",
       "      <td>Midwest</td>\n",
       "      <td>NaN</td>\n",
       "      <td>Conscious Shopper</td>\n",
       "    </tr>\n",
       "  </tbody>\n",
       "</table>\n",
       "<p>5 rows × 31 columns</p>\n",
       "</div>"
      ],
      "text/plain": [
       "   user_id     m/f     state  age date_joined  n_dependants maritial_status  \\\n",
       "0    26711  Female  Missouri   48  2017-01-01             3         married   \n",
       "1    26711  Female  Missouri   48  2017-01-01             3         married   \n",
       "2    26711  Female  Missouri   48  2017-01-01             3         married   \n",
       "3    26711  Female  Missouri   48  2017-01-01             3         married   \n",
       "4    26711  Female  Missouri   48  2017-01-01             3         married   \n",
       "\n",
       "   income  order_number  orders_day_of_week  ...  busiest_period_of_day  \\\n",
       "0  165665             1                   2  ...          Fewest orders   \n",
       "1  165665             2                   2  ...          Fewest orders   \n",
       "2  165665             3                   3  ...          Fewest orders   \n",
       "3  165665             3                   3  ...          Fewest orders   \n",
       "4  165665             3                   3  ...          Fewest orders   \n",
       "\n",
       "   max_order  loyalty_flag  average_spending  spending_type  order_frequency  \\\n",
       "0          8  New customer          7.988889    Low spender             19.0   \n",
       "1          8  New customer          7.988889    Low spender             19.0   \n",
       "2          8  New customer          7.988889    Low spender             19.0   \n",
       "3          8  New customer          7.988889    Low spender             19.0   \n",
       "4          8  New customer          7.988889    Low spender             19.0   \n",
       "\n",
       "      customer_type   region  activity_type   customer_profile  \n",
       "0  Regular customer  Midwest            NaN  Conscious Shopper  \n",
       "1  Regular customer  Midwest            NaN  Conscious Shopper  \n",
       "2  Regular customer  Midwest            NaN  Conscious Shopper  \n",
       "3  Regular customer  Midwest            NaN  Conscious Shopper  \n",
       "4  Regular customer  Midwest            NaN  Conscious Shopper  \n",
       "\n",
       "[5 rows x 31 columns]"
      ]
     },
     "execution_count": 12,
     "metadata": {},
     "output_type": "execute_result"
    }
   ],
   "source": [
    "df_ords_prods_cust.head()"
   ]
  },
  {
   "cell_type": "markdown",
   "id": "1cab1492-fb50-4130-9473-b83355e8f65b",
   "metadata": {},
   "source": [
    " . . . . . . . . . . . . . . . . . . . . . . . . . . . . . . . . . . . . . . . . . . . . . . . . . . . . . . . . . . . . . . . . . . . . . . . . . . . . . . . . . . . . . . . . . . . . . . . . . . . . . . . . . . . . . . . ."
   ]
  },
  {
   "cell_type": "markdown",
   "id": "6323dbd4-1b52-46e2-9df9-6cb947c76ea5",
   "metadata": {},
   "source": [
    "### **2. BUSINESS QUESTIONS**"
   ]
  },
  {
   "cell_type": "markdown",
   "id": "ae2e6c5e-9bb0-4e9e-af04-de43775480c2",
   "metadata": {},
   "source": [
    "**2.1 HOW DOES CUSTOMER BEHAVIOR DIFFER PER REGION?**"
   ]
  },
  {
   "cell_type": "code",
   "execution_count": 16,
   "id": "c7a47793-acd8-41dd-a1c0-d00aff85315b",
   "metadata": {},
   "outputs": [],
   "source": [
    "# create region as a new variable and assign states to \n",
    "shell = []\n",
    "\n",
    "for value in df_ords_prods_cust['state']:\n",
    "  if value in ['Maine', 'New Hampshire', 'Vermont', 'Massachusetts', 'Rhode Island', 'Connecticut', 'New York', 'Pennsylvania', 'New Jersey']:\n",
    "   shell.append(\"Northeast\")\n",
    "  elif value in ['Wisconsin', 'Michigan', 'Illinois', 'Indiana', 'Ohio', 'North Dakota', 'South Dakota', 'Nebraska', 'Kansas', 'Minnesota', 'Iowa', 'Missouri']:\n",
    "    shell.append(\"Midwest\")\n",
    "  elif value in ['Delaware', 'Maryland', 'District of Columbia', 'Virginia', 'West Virginia', 'North Carolina', 'South Carolina', 'Georgia', 'Florida', 'Kentucky', 'Tennessee', 'Mississippi', 'Alabama', 'Oklahoma', 'Texas', 'Arkansas', 'Louisiana']:\n",
    "    shell.append(\"South\")\n",
    "  elif value in ['Idaho', 'Montana', 'Wyoming', 'Nevada', 'Utah', 'Colorado', 'Arizona', 'New Mexico', 'Alaska', 'Washington', 'Oregon', 'California', 'Hawaii']:\n",
    "    shell.append(\"West\")\n",
    "  else:\n",
    "    shell.append(\"Unknown\")"
   ]
  },
  {
   "cell_type": "code",
   "execution_count": 17,
   "id": "03b37686-c731-4399-b9d2-4026e2adfc27",
   "metadata": {},
   "outputs": [],
   "source": [
    "# embed region as new variable in dataframe\n",
    "df_ords_prods_cust['region'] = shell"
   ]
  },
  {
   "cell_type": "code",
   "execution_count": 18,
   "id": "0554f8ae-97ef-46b8-a0d6-96b4fc3ca805",
   "metadata": {},
   "outputs": [
    {
     "data": {
      "text/plain": [
       "region\n",
       "South        9260103\n",
       "West         7103408\n",
       "Midwest      6545274\n",
       "Northeast    4903144\n",
       "Name: count, dtype: int64"
      ]
     },
     "execution_count": 18,
     "metadata": {},
     "output_type": "execute_result"
    }
   ],
   "source": [
    "# confirm all defined regions being assigned to new variable \n",
    "df_ords_prods_cust['region'].value_counts(dropna=False)"
   ]
  },
  {
   "cell_type": "code",
   "execution_count": 19,
   "id": "5c656334-3ce5-49fc-b21a-d0b4c6864376",
   "metadata": {},
   "outputs": [
    {
     "data": {
      "text/plain": [
       "spending_type\n",
       "High spender      3146\n",
       "Low spender     188755\n",
       "Name: user_id, dtype: int64"
      ]
     },
     "execution_count": 19,
     "metadata": {},
     "output_type": "execute_result"
    }
   ],
   "source": [
    "# creating baseline insight in total number of unique users per spending_type\n",
    "df_ords_prods_cust.groupby('spending_type')['user_id'].nunique()"
   ]
  },
  {
   "cell_type": "markdown",
   "id": "f15cd378-9a03-456f-88c2-0b2d4c3399d1",
   "metadata": {},
   "source": [
    " . . . . . . . . . . . . . . . . . . . . . . . . . . . . . . . . . . . . . . . . . . . . . . . . . . . . . . . . . . . . . . . . . . . . . . . . . . . . . . . . . . . . . . . . . . . . . . . . . . . . . . . . . . . . . . . ."
   ]
  },
  {
   "cell_type": "code",
   "execution_count": 21,
   "id": "577dc5bd-a99c-450e-a951-358c76059628",
   "metadata": {},
   "outputs": [],
   "source": [
    "# creating separate bar plots for low and high spending unique customers to enhance readability due to wide varying scale\n",
    "\n",
    "# defining table for low spending unique customers per region\n",
    "low_spender_by_region = df_ords_prods_cust[df_ords_prods_cust['spending_type'] == 'Low spender'].groupby('region')['user_id'].nunique()"
   ]
  },
  {
   "cell_type": "code",
   "execution_count": 22,
   "id": "c70ef5cb-d087-41ad-b952-3f22f91efd88",
   "metadata": {},
   "outputs": [
    {
     "data": {
      "text/plain": [
       "region\n",
       "Midwest      44485\n",
       "Northeast    33287\n",
       "South        62892\n",
       "West         48091\n",
       "Name: user_id, dtype: int64"
      ]
     },
     "execution_count": 22,
     "metadata": {},
     "output_type": "execute_result"
    }
   ],
   "source": [
    "# reading values for number of low spending unique customers per region\n",
    "low_spender_by_region"
   ]
  },
  {
   "cell_type": "code",
   "execution_count": 23,
   "id": "7b0ddbc6-52ad-4c5d-a1f4-12f4dfaa9587",
   "metadata": {},
   "outputs": [
    {
     "data": {
      "text/plain": [
       "Text(0, 0.5, 'Number of Low Spending Customers')"
      ]
     },
     "execution_count": 23,
     "metadata": {},
     "output_type": "execute_result"
    },
    {
     "data": {
      "image/png": "[encoded data removed]",
      "text/plain": [
       "<Figure size 640x480 with 1 Axes>"
      ]
     },
     "metadata": {},
     "output_type": "display_data"
    }
   ],
   "source": [
    "# define design attributes\n",
    "Midwest = palette[0]\n",
    "Northeast = palette[1]\n",
    "South = palette[2]\n",
    "West = palette[4]\n",
    "\n",
    "# creating bar chart to illustrate the scale of spending types by region\n",
    "bar1 = low_spender_by_region.plot(kind='bar', color=[Midwest, Northeast, South, West])\n",
    "\n",
    "# lay out plot\n",
    "for c in bar1.containers: bar1.bar_label(c, label_type='center')\n",
    "plt.title('The South Region has the most Low Spending Unique Customers')\n",
    "plt.xlabel('Region'), plt.xticks(rotation=0, ha='center')\n",
    "plt.ylabel('Number of Low Spending Customers')"
   ]
  },
  {
   "cell_type": "code",
   "execution_count": 24,
   "id": "bf6e769d-efab-4bf6-b33d-ba713992e6df",
   "metadata": {},
   "outputs": [],
   "source": [
    "# defining table for high spending unique customers per region\n",
    "high_spender_by_region = df_ords_prods_cust[df_ords_prods_cust['spending_type'] == 'High spender'].groupby('region')['user_id'].nunique()"
   ]
  },
  {
   "cell_type": "code",
   "execution_count": 25,
   "id": "97311cc5-126e-4503-86a5-1d21fe9e9d77",
   "metadata": {},
   "outputs": [
    {
     "data": {
      "text/plain": [
       "region\n",
       "Midwest       748\n",
       "Northeast     500\n",
       "South        1060\n",
       "West          838\n",
       "Name: user_id, dtype: int64"
      ]
     },
     "execution_count": 25,
     "metadata": {},
     "output_type": "execute_result"
    }
   ],
   "source": [
    "# reading values for number of high spending unique customers per region\n",
    "high_spender_by_region"
   ]
  },
  {
   "cell_type": "code",
   "execution_count": 26,
   "id": "f3bbb983-789c-4193-9b84-b03cd9a42583",
   "metadata": {},
   "outputs": [
    {
     "data": {
      "text/plain": [
       "Text(0, 0.5, 'Number of High Spending Customers')"
      ]
     },
     "execution_count": 26,
     "metadata": {},
     "output_type": "execute_result"
    },
    {
     "data": {
      "image/png": "[encoded data removed]",
      "text/plain": [
       "<Figure size 640x480 with 1 Axes>"
      ]
     },
     "metadata": {},
     "output_type": "display_data"
    }
   ],
   "source": [
    "# define design attributes\n",
    "Midwest = palette[0]\n",
    "Northeast = palette[1]\n",
    "South = palette[2]\n",
    "West = palette[4]\n",
    "\n",
    "# creating bar chart to illustrate the scale of spending types by region\n",
    "bar2 = high_spender_by_region.plot(kind='bar', color=[Midwest, Northeast, South, West])\n",
    "\n",
    "# lay out plot\n",
    "for c in bar2.containers: bar2.bar_label(c, label_type='center')\n",
    "plt.title('The South Region has the most High Spending Unique Customers')\n",
    "plt.xlabel('Region'), plt.xticks(rotation=0, ha='center')\n",
    "plt.ylabel('Number of High Spending Customers')"
   ]
  },
  {
   "cell_type": "markdown",
   "id": "e3232a22-3a9c-4b9c-aac0-5c9d9f65cab2",
   "metadata": {},
   "source": [
    " . . . . . . . . . . . . . . . . . . . . . . . . . . . . . . . . . . . . . . . . . . . . . . . . . . . . . . . . . . . . . . . . . . . . . . . . . . . . . . . . . . . . . . . . . . . . . . . . . . . . . . . . . . . . . . . ."
   ]
  },
  {
   "cell_type": "markdown",
   "id": "eaebeed2-0333-480f-86e5-8ba24e5d1fd4",
   "metadata": {},
   "source": [
    "**2.2 HOW DO SPENDING HABITS AMONG CUSTOMER DIFFER BETWEEN REGIONS?**"
   ]
  },
  {
   "cell_type": "code",
   "execution_count": 29,
   "id": "b78e3a5f-e6ad-4444-983e-625aef3d64ce",
   "metadata": {},
   "outputs": [],
   "source": [
    "# creating exclusion flag for low-active customers with less than 5 orders\n",
    "df_ords_prods_cust.loc[df_ords_prods_cust['order_frequency'] < 5, 'activity_type'] = 'Low activity'"
   ]
  },
  {
   "cell_type": "code",
   "execution_count": 30,
   "id": "50c88031-c545-41d3-bc08-aa122d3020c8",
   "metadata": {},
   "outputs": [
    {
     "data": {
      "text/plain": [
       "Index(['user_id', 'm/f', 'state', 'age', 'date_joined', 'n_dependants',\n",
       "       'maritial_status', 'income', 'order_number', 'orders_day_of_week',\n",
       "       'order_hour_of_day', 'days_since_last_order', 'first_order',\n",
       "       'product_id', 'add_to_cart_order', 'reordered', 'product_name',\n",
       "       'aisle_id', 'department_id', 'prices', 'busy_days',\n",
       "       'busiest_period_of_day', 'max_order', 'loyalty_flag',\n",
       "       'average_spending', 'spending_type', 'order_frequency', 'customer_type',\n",
       "       'region', 'activity_type', 'customer_profile'],\n",
       "      dtype='object')"
      ]
     },
     "execution_count": 30,
     "metadata": {},
     "output_type": "execute_result"
    }
   ],
   "source": [
    "# confim added column\n",
    "df_ords_prods_cust.columns"
   ]
  },
  {
   "cell_type": "code",
   "execution_count": 31,
   "id": "1a955459-b4b7-4620-b2ae-1443485cf0f2",
   "metadata": {},
   "outputs": [
    {
     "data": {
      "text/plain": [
       "Series([], Name: count, dtype: int64)"
      ]
     },
     "execution_count": 31,
     "metadata": {},
     "output_type": "execute_result"
    }
   ],
   "source": [
    "# counting flag\n",
    "df_ords_prods_cust['activity_type'].value_counts()"
   ]
  },
  {
   "cell_type": "code",
   "execution_count": 32,
   "id": "ec55cc0f-70ae-48b0-8e35-e170351d2af8",
   "metadata": {},
   "outputs": [],
   "source": [
    "# creating low active customers as a subset\n",
    "df_ords_prods_cust_low = df_ords_prods_cust[df_ords_prods_cust['activity_type'] == 'Low activity']"
   ]
  },
  {
   "cell_type": "code",
   "execution_count": 33,
   "id": "f5dd3c35-a729-4760-9d8d-a6102347f50f",
   "metadata": {},
   "outputs": [
    {
     "data": {
      "text/html": [
       "<div>\n",
       "<style scoped>\n",
       "    .dataframe tbody tr th:only-of-type {\n",
       "        vertical-align: middle;\n",
       "    }\n",
       "\n",
       "    .dataframe tbody tr th {\n",
       "        vertical-align: top;\n",
       "    }\n",
       "\n",
       "    .dataframe thead th {\n",
       "        text-align: right;\n",
       "    }\n",
       "</style>\n",
       "<table border=\"1\" class=\"dataframe\">\n",
       "  <thead>\n",
       "    <tr style=\"text-align: right;\">\n",
       "      <th></th>\n",
       "      <th>user_id</th>\n",
       "      <th>m/f</th>\n",
       "      <th>state</th>\n",
       "      <th>age</th>\n",
       "      <th>date_joined</th>\n",
       "      <th>n_dependants</th>\n",
       "      <th>maritial_status</th>\n",
       "      <th>income</th>\n",
       "      <th>order_number</th>\n",
       "      <th>orders_day_of_week</th>\n",
       "      <th>...</th>\n",
       "      <th>busiest_period_of_day</th>\n",
       "      <th>max_order</th>\n",
       "      <th>loyalty_flag</th>\n",
       "      <th>average_spending</th>\n",
       "      <th>spending_type</th>\n",
       "      <th>order_frequency</th>\n",
       "      <th>customer_type</th>\n",
       "      <th>region</th>\n",
       "      <th>activity_type</th>\n",
       "      <th>customer_profile</th>\n",
       "    </tr>\n",
       "  </thead>\n",
       "  <tbody>\n",
       "  </tbody>\n",
       "</table>\n",
       "<p>0 rows × 31 columns</p>\n",
       "</div>"
      ],
      "text/plain": [
       "Empty DataFrame\n",
       "Columns: [user_id, m/f, state, age, date_joined, n_dependants, maritial_status, income, order_number, orders_day_of_week, order_hour_of_day, days_since_last_order, first_order, product_id, add_to_cart_order, reordered, product_name, aisle_id, department_id, prices, busy_days, busiest_period_of_day, max_order, loyalty_flag, average_spending, spending_type, order_frequency, customer_type, region, activity_type, customer_profile]\n",
       "Index: []\n",
       "\n",
       "[0 rows x 31 columns]"
      ]
     },
     "execution_count": 33,
     "metadata": {},
     "output_type": "execute_result"
    }
   ],
   "source": [
    "# confirm sample \n",
    "df_ords_prods_cust_low"
   ]
  },
  {
   "cell_type": "code",
   "execution_count": 34,
   "id": "47da67e2-b55c-46fb-bfd4-897acdd8cc2f",
   "metadata": {},
   "outputs": [],
   "source": [
    "# export sample as pickle\n",
    "df_ords_prods_cust_low.to_pickle(os.path.join(path, '02 Data','Prepared Data', 'df_ords_prods_cust_low.pkl'))"
   ]
  },
  {
   "cell_type": "code",
   "execution_count": 35,
   "id": "790ad709-ed71-4e0a-8dcf-5daba7efe310",
   "metadata": {},
   "outputs": [],
   "source": [
    "# excluding low active customers \n",
    "df_ords_prods_cust = df_ords_prods_cust[df_ords_prods_cust['activity_type']!='Low activity']"
   ]
  },
  {
   "cell_type": "code",
   "execution_count": 36,
   "id": "2053fbfd-3989-4411-ba9f-1660e4956a50",
   "metadata": {},
   "outputs": [
    {
     "data": {
      "text/plain": [
       "(27811929, 31)"
      ]
     },
     "execution_count": 36,
     "metadata": {},
     "output_type": "execute_result"
    }
   ],
   "source": [
    "# confirming new number of rows being 32404859 - 4592930 = 27811929\n",
    "df_ords_prods_cust.shape"
   ]
  },
  {
   "cell_type": "markdown",
   "id": "3d8134b7-dc25-41d0-bb04-d08c2747b540",
   "metadata": {},
   "source": [
    " . . . . . . . . . . . . . . . . . . . . . . . . . . . . . . . . . . . . . . . . . . . . . . . . . . . . . . . . . . . . . . . . . . . . . . . . . . . . . . . . . . . . . . . . . . . . . . . . . . . . . . . . . . . . . . . ."
   ]
  },
  {
   "cell_type": "markdown",
   "id": "f59b7ee9-af5e-4c11-bb27-07a999d252a3",
   "metadata": {},
   "source": [
    "**2.3 WHICH DATA-DRIVEN CUSTOMER PROFILES CAN WE LEVERATE TO MAXIMIZE RELEVANCE AND IMPACT OF OUR MARKETING STRATEGIES?**"
   ]
  },
  {
   "cell_type": "code",
   "execution_count": 39,
   "id": "ece9752f-2636-42ec-a5de-4a1aff315a59",
   "metadata": {},
   "outputs": [],
   "source": [
    "# creating dataframe to generate range of values to design customer profiles upon\n",
    "customer_profile = df_ords_prods_cust.groupby('department_id').agg({\n",
    "    'orders_day_of_week': ['min', 'max', lambda x: x.mode()[0]],\n",
    "    'order_hour_of_day': ['min', 'max', lambda x: x.mode()[0]],\n",
    "    'age': ['min', 'max', lambda x: x.mode()[0]],\n",
    "    'n_dependants': ['min', 'max', lambda x: x.mode()[0]],\n",
    "    })"
   ]
  },
  {
   "cell_type": "code",
   "execution_count": 40,
   "id": "41717296-8c66-4a14-b4e6-29f1fd05e93d",
   "metadata": {},
   "outputs": [
    {
     "data": {
      "text/html": [
       "<div>\n",
       "<style scoped>\n",
       "    .dataframe tbody tr th:only-of-type {\n",
       "        vertical-align: middle;\n",
       "    }\n",
       "\n",
       "    .dataframe tbody tr th {\n",
       "        vertical-align: top;\n",
       "    }\n",
       "\n",
       "    .dataframe thead tr th {\n",
       "        text-align: left;\n",
       "    }\n",
       "\n",
       "    .dataframe thead tr:last-of-type th {\n",
       "        text-align: right;\n",
       "    }\n",
       "</style>\n",
       "<table border=\"1\" class=\"dataframe\">\n",
       "  <thead>\n",
       "    <tr>\n",
       "      <th></th>\n",
       "      <th colspan=\"3\" halign=\"left\">orders_day_of_week</th>\n",
       "      <th colspan=\"3\" halign=\"left\">order_hour_of_day</th>\n",
       "      <th colspan=\"3\" halign=\"left\">age</th>\n",
       "      <th colspan=\"3\" halign=\"left\">n_dependants</th>\n",
       "    </tr>\n",
       "    <tr>\n",
       "      <th></th>\n",
       "      <th>min</th>\n",
       "      <th>max</th>\n",
       "      <th>&lt;lambda_0&gt;</th>\n",
       "      <th>min</th>\n",
       "      <th>max</th>\n",
       "      <th>&lt;lambda_0&gt;</th>\n",
       "      <th>min</th>\n",
       "      <th>max</th>\n",
       "      <th>&lt;lambda_0&gt;</th>\n",
       "      <th>min</th>\n",
       "      <th>max</th>\n",
       "      <th>&lt;lambda_0&gt;</th>\n",
       "    </tr>\n",
       "    <tr>\n",
       "      <th>department_id</th>\n",
       "      <th></th>\n",
       "      <th></th>\n",
       "      <th></th>\n",
       "      <th></th>\n",
       "      <th></th>\n",
       "      <th></th>\n",
       "      <th></th>\n",
       "      <th></th>\n",
       "      <th></th>\n",
       "      <th></th>\n",
       "      <th></th>\n",
       "      <th></th>\n",
       "    </tr>\n",
       "  </thead>\n",
       "  <tbody>\n",
       "    <tr>\n",
       "      <th>1</th>\n",
       "      <td>0</td>\n",
       "      <td>6</td>\n",
       "      <td>0</td>\n",
       "      <td>0</td>\n",
       "      <td>23</td>\n",
       "      <td>15</td>\n",
       "      <td>18</td>\n",
       "      <td>81</td>\n",
       "      <td>35</td>\n",
       "      <td>0</td>\n",
       "      <td>3</td>\n",
       "      <td>3</td>\n",
       "    </tr>\n",
       "    <tr>\n",
       "      <th>2</th>\n",
       "      <td>0</td>\n",
       "      <td>6</td>\n",
       "      <td>0</td>\n",
       "      <td>0</td>\n",
       "      <td>23</td>\n",
       "      <td>15</td>\n",
       "      <td>18</td>\n",
       "      <td>81</td>\n",
       "      <td>20</td>\n",
       "      <td>0</td>\n",
       "      <td>3</td>\n",
       "      <td>1</td>\n",
       "    </tr>\n",
       "    <tr>\n",
       "      <th>3</th>\n",
       "      <td>0</td>\n",
       "      <td>6</td>\n",
       "      <td>0</td>\n",
       "      <td>0</td>\n",
       "      <td>23</td>\n",
       "      <td>15</td>\n",
       "      <td>18</td>\n",
       "      <td>81</td>\n",
       "      <td>31</td>\n",
       "      <td>0</td>\n",
       "      <td>3</td>\n",
       "      <td>0</td>\n",
       "    </tr>\n",
       "    <tr>\n",
       "      <th>4</th>\n",
       "      <td>0</td>\n",
       "      <td>6</td>\n",
       "      <td>0</td>\n",
       "      <td>0</td>\n",
       "      <td>23</td>\n",
       "      <td>11</td>\n",
       "      <td>18</td>\n",
       "      <td>81</td>\n",
       "      <td>43</td>\n",
       "      <td>0</td>\n",
       "      <td>3</td>\n",
       "      <td>3</td>\n",
       "    </tr>\n",
       "    <tr>\n",
       "      <th>5</th>\n",
       "      <td>0</td>\n",
       "      <td>6</td>\n",
       "      <td>5</td>\n",
       "      <td>0</td>\n",
       "      <td>23</td>\n",
       "      <td>15</td>\n",
       "      <td>18</td>\n",
       "      <td>81</td>\n",
       "      <td>45</td>\n",
       "      <td>0</td>\n",
       "      <td>3</td>\n",
       "      <td>1</td>\n",
       "    </tr>\n",
       "    <tr>\n",
       "      <th>6</th>\n",
       "      <td>0</td>\n",
       "      <td>6</td>\n",
       "      <td>0</td>\n",
       "      <td>0</td>\n",
       "      <td>23</td>\n",
       "      <td>15</td>\n",
       "      <td>18</td>\n",
       "      <td>81</td>\n",
       "      <td>40</td>\n",
       "      <td>0</td>\n",
       "      <td>3</td>\n",
       "      <td>1</td>\n",
       "    </tr>\n",
       "    <tr>\n",
       "      <th>7</th>\n",
       "      <td>0</td>\n",
       "      <td>6</td>\n",
       "      <td>1</td>\n",
       "      <td>0</td>\n",
       "      <td>23</td>\n",
       "      <td>10</td>\n",
       "      <td>18</td>\n",
       "      <td>81</td>\n",
       "      <td>55</td>\n",
       "      <td>0</td>\n",
       "      <td>3</td>\n",
       "      <td>2</td>\n",
       "    </tr>\n",
       "    <tr>\n",
       "      <th>8</th>\n",
       "      <td>0</td>\n",
       "      <td>6</td>\n",
       "      <td>0</td>\n",
       "      <td>0</td>\n",
       "      <td>23</td>\n",
       "      <td>16</td>\n",
       "      <td>18</td>\n",
       "      <td>81</td>\n",
       "      <td>24</td>\n",
       "      <td>0</td>\n",
       "      <td>3</td>\n",
       "      <td>1</td>\n",
       "    </tr>\n",
       "    <tr>\n",
       "      <th>9</th>\n",
       "      <td>0</td>\n",
       "      <td>6</td>\n",
       "      <td>0</td>\n",
       "      <td>0</td>\n",
       "      <td>23</td>\n",
       "      <td>15</td>\n",
       "      <td>18</td>\n",
       "      <td>81</td>\n",
       "      <td>54</td>\n",
       "      <td>0</td>\n",
       "      <td>3</td>\n",
       "      <td>3</td>\n",
       "    </tr>\n",
       "    <tr>\n",
       "      <th>10</th>\n",
       "      <td>0</td>\n",
       "      <td>6</td>\n",
       "      <td>1</td>\n",
       "      <td>0</td>\n",
       "      <td>23</td>\n",
       "      <td>10</td>\n",
       "      <td>18</td>\n",
       "      <td>81</td>\n",
       "      <td>47</td>\n",
       "      <td>0</td>\n",
       "      <td>3</td>\n",
       "      <td>1</td>\n",
       "    </tr>\n",
       "    <tr>\n",
       "      <th>11</th>\n",
       "      <td>0</td>\n",
       "      <td>6</td>\n",
       "      <td>0</td>\n",
       "      <td>0</td>\n",
       "      <td>23</td>\n",
       "      <td>10</td>\n",
       "      <td>18</td>\n",
       "      <td>81</td>\n",
       "      <td>47</td>\n",
       "      <td>0</td>\n",
       "      <td>3</td>\n",
       "      <td>1</td>\n",
       "    </tr>\n",
       "    <tr>\n",
       "      <th>12</th>\n",
       "      <td>0</td>\n",
       "      <td>6</td>\n",
       "      <td>0</td>\n",
       "      <td>0</td>\n",
       "      <td>23</td>\n",
       "      <td>15</td>\n",
       "      <td>18</td>\n",
       "      <td>81</td>\n",
       "      <td>79</td>\n",
       "      <td>0</td>\n",
       "      <td>3</td>\n",
       "      <td>3</td>\n",
       "    </tr>\n",
       "    <tr>\n",
       "      <th>13</th>\n",
       "      <td>0</td>\n",
       "      <td>6</td>\n",
       "      <td>0</td>\n",
       "      <td>0</td>\n",
       "      <td>23</td>\n",
       "      <td>11</td>\n",
       "      <td>18</td>\n",
       "      <td>81</td>\n",
       "      <td>49</td>\n",
       "      <td>0</td>\n",
       "      <td>3</td>\n",
       "      <td>2</td>\n",
       "    </tr>\n",
       "    <tr>\n",
       "      <th>14</th>\n",
       "      <td>0</td>\n",
       "      <td>6</td>\n",
       "      <td>0</td>\n",
       "      <td>0</td>\n",
       "      <td>23</td>\n",
       "      <td>10</td>\n",
       "      <td>18</td>\n",
       "      <td>81</td>\n",
       "      <td>35</td>\n",
       "      <td>0</td>\n",
       "      <td>3</td>\n",
       "      <td>1</td>\n",
       "    </tr>\n",
       "    <tr>\n",
       "      <th>15</th>\n",
       "      <td>0</td>\n",
       "      <td>6</td>\n",
       "      <td>0</td>\n",
       "      <td>0</td>\n",
       "      <td>23</td>\n",
       "      <td>11</td>\n",
       "      <td>18</td>\n",
       "      <td>81</td>\n",
       "      <td>49</td>\n",
       "      <td>0</td>\n",
       "      <td>3</td>\n",
       "      <td>3</td>\n",
       "    </tr>\n",
       "    <tr>\n",
       "      <th>16</th>\n",
       "      <td>0</td>\n",
       "      <td>6</td>\n",
       "      <td>0</td>\n",
       "      <td>0</td>\n",
       "      <td>23</td>\n",
       "      <td>10</td>\n",
       "      <td>18</td>\n",
       "      <td>81</td>\n",
       "      <td>31</td>\n",
       "      <td>0</td>\n",
       "      <td>3</td>\n",
       "      <td>1</td>\n",
       "    </tr>\n",
       "    <tr>\n",
       "      <th>17</th>\n",
       "      <td>0</td>\n",
       "      <td>6</td>\n",
       "      <td>0</td>\n",
       "      <td>0</td>\n",
       "      <td>23</td>\n",
       "      <td>11</td>\n",
       "      <td>18</td>\n",
       "      <td>81</td>\n",
       "      <td>72</td>\n",
       "      <td>0</td>\n",
       "      <td>3</td>\n",
       "      <td>1</td>\n",
       "    </tr>\n",
       "    <tr>\n",
       "      <th>18</th>\n",
       "      <td>0</td>\n",
       "      <td>6</td>\n",
       "      <td>0</td>\n",
       "      <td>0</td>\n",
       "      <td>23</td>\n",
       "      <td>10</td>\n",
       "      <td>18</td>\n",
       "      <td>81</td>\n",
       "      <td>43</td>\n",
       "      <td>0</td>\n",
       "      <td>3</td>\n",
       "      <td>2</td>\n",
       "    </tr>\n",
       "    <tr>\n",
       "      <th>19</th>\n",
       "      <td>0</td>\n",
       "      <td>6</td>\n",
       "      <td>1</td>\n",
       "      <td>0</td>\n",
       "      <td>23</td>\n",
       "      <td>10</td>\n",
       "      <td>18</td>\n",
       "      <td>81</td>\n",
       "      <td>55</td>\n",
       "      <td>0</td>\n",
       "      <td>3</td>\n",
       "      <td>2</td>\n",
       "    </tr>\n",
       "    <tr>\n",
       "      <th>20</th>\n",
       "      <td>0</td>\n",
       "      <td>6</td>\n",
       "      <td>0</td>\n",
       "      <td>0</td>\n",
       "      <td>23</td>\n",
       "      <td>11</td>\n",
       "      <td>18</td>\n",
       "      <td>81</td>\n",
       "      <td>35</td>\n",
       "      <td>0</td>\n",
       "      <td>3</td>\n",
       "      <td>3</td>\n",
       "    </tr>\n",
       "    <tr>\n",
       "      <th>21</th>\n",
       "      <td>0</td>\n",
       "      <td>6</td>\n",
       "      <td>0</td>\n",
       "      <td>0</td>\n",
       "      <td>23</td>\n",
       "      <td>10</td>\n",
       "      <td>18</td>\n",
       "      <td>81</td>\n",
       "      <td>20</td>\n",
       "      <td>0</td>\n",
       "      <td>3</td>\n",
       "      <td>2</td>\n",
       "    </tr>\n",
       "  </tbody>\n",
       "</table>\n",
       "</div>"
      ],
      "text/plain": [
       "              orders_day_of_week                order_hour_of_day      \\\n",
       "                             min max <lambda_0>               min max   \n",
       "department_id                                                           \n",
       "1                              0   6          0                 0  23   \n",
       "2                              0   6          0                 0  23   \n",
       "3                              0   6          0                 0  23   \n",
       "4                              0   6          0                 0  23   \n",
       "5                              0   6          5                 0  23   \n",
       "6                              0   6          0                 0  23   \n",
       "7                              0   6          1                 0  23   \n",
       "8                              0   6          0                 0  23   \n",
       "9                              0   6          0                 0  23   \n",
       "10                             0   6          1                 0  23   \n",
       "11                             0   6          0                 0  23   \n",
       "12                             0   6          0                 0  23   \n",
       "13                             0   6          0                 0  23   \n",
       "14                             0   6          0                 0  23   \n",
       "15                             0   6          0                 0  23   \n",
       "16                             0   6          0                 0  23   \n",
       "17                             0   6          0                 0  23   \n",
       "18                             0   6          0                 0  23   \n",
       "19                             0   6          1                 0  23   \n",
       "20                             0   6          0                 0  23   \n",
       "21                             0   6          0                 0  23   \n",
       "\n",
       "                         age                n_dependants                 \n",
       "              <lambda_0> min max <lambda_0>          min max <lambda_0>  \n",
       "department_id                                                            \n",
       "1                     15  18  81         35            0   3          3  \n",
       "2                     15  18  81         20            0   3          1  \n",
       "3                     15  18  81         31            0   3          0  \n",
       "4                     11  18  81         43            0   3          3  \n",
       "5                     15  18  81         45            0   3          1  \n",
       "6                     15  18  81         40            0   3          1  \n",
       "7                     10  18  81         55            0   3          2  \n",
       "8                     16  18  81         24            0   3          1  \n",
       "9                     15  18  81         54            0   3          3  \n",
       "10                    10  18  81         47            0   3          1  \n",
       "11                    10  18  81         47            0   3          1  \n",
       "12                    15  18  81         79            0   3          3  \n",
       "13                    11  18  81         49            0   3          2  \n",
       "14                    10  18  81         35            0   3          1  \n",
       "15                    11  18  81         49            0   3          3  \n",
       "16                    10  18  81         31            0   3          1  \n",
       "17                    11  18  81         72            0   3          1  \n",
       "18                    10  18  81         43            0   3          2  \n",
       "19                    10  18  81         55            0   3          2  \n",
       "20                    11  18  81         35            0   3          3  \n",
       "21                    10  18  81         20            0   3          2  "
      ]
     },
     "execution_count": 40,
     "metadata": {},
     "output_type": "execute_result"
    }
   ],
   "source": [
    "# reading values\n",
    "customer_profile"
   ]
  },
  {
   "cell_type": "code",
   "execution_count": 41,
   "id": "a41b64a6-112f-4e52-b181-15afb9d165b9",
   "metadata": {},
   "outputs": [],
   "source": [
    "# copying dataframe to excel to design customer profiles on \n",
    "customer_profile.to_clipboard()"
   ]
  },
  {
   "cell_type": "markdown",
   "id": "c6d02c35-98d5-47b9-80ac-60c2b04394a0",
   "metadata": {},
   "source": [
    "> **Based on the data above, I propose and created the following 3 customer profiles:**\n",
    "> 1. Family Shopper - organizes shopping around family needs, with weekend afternoon shopping habits\n",
    "> 2. Conscious Shopper - organizes shopping around health, withearly-week, morning shopping to prioritize fresh and ethical products\n",
    "> 3. Urban Shopper - organizes shopping around work and life, rather shops later in the week, prefers for convenience and premium products"
   ]
  },
  {
   "cell_type": "code",
   "execution_count": 43,
   "id": "a6ebe51c-8d0e-4283-9fc7-b31cf11ff323",
   "metadata": {},
   "outputs": [],
   "source": [
    "# creating customer profile flag: family shopper\n",
    "\n",
    "# assigning criteria to seperate definitions\n",
    "fam_day = df_ords_prods_cust['orders_day_of_week'].isin([0, 1])\n",
    "fam_hour = df_ords_prods_cust['order_hour_of_day'].between(12, 17)\n",
    "fam_age = df_ords_prods_cust['age'].between(25, 40)\n",
    "fam_size = df_ords_prods_cust['n_dependants'].isin([1, 2])\n",
    "fam_dept = df_ords_prods_cust['department_id'].isin([1, 3, 16, 18, 19])"
   ]
  },
  {
   "cell_type": "code",
   "execution_count": 44,
   "id": "5fb33bc9-4949-41de-b08e-a45826e031c5",
   "metadata": {},
   "outputs": [],
   "source": [
    "# merging definitions\n",
    "family_shopper = fam_day & fam_hour & fam_age & fam_size & fam_dept"
   ]
  },
  {
   "cell_type": "code",
   "execution_count": 45,
   "id": "0e439a0c-0075-4439-b366-89979bb55fc3",
   "metadata": {},
   "outputs": [],
   "source": [
    "# add definition as new column\n",
    "df_ords_prods_cust.loc[family_shopper, 'customer_profile'] = 'Family Shopper'"
   ]
  },
  {
   "cell_type": "code",
   "execution_count": 46,
   "id": "caf2be22-7efc-458e-9739-810ba258b886",
   "metadata": {},
   "outputs": [],
   "source": [
    "# creating customer profile flag: conscious shopper\n",
    "\n",
    "# assigning criteria to seperate definitions\n",
    "cons_day = df_ords_prods_cust['orders_day_of_week'].isin([2, 3, 4])\n",
    "cons_hour = df_ords_prods_cust['order_hour_of_day'].between(8, 12)\n",
    "cons_age = df_ords_prods_cust['age'].between(40, 60)\n",
    "cons_size = df_ords_prods_cust['n_dependants'].isin([2, 3])\n",
    "cons_dept = df_ords_prods_cust['department_id'].isin([4, 6, 11, 12, 16])"
   ]
  },
  {
   "cell_type": "code",
   "execution_count": 47,
   "id": "2ed3358f-f1f3-4d6d-8b05-f6e2ec08b92d",
   "metadata": {},
   "outputs": [],
   "source": [
    "# merging definitions\n",
    "counscious_shopper = cons_day & cons_hour & cons_age & cons_size & cons_dept"
   ]
  },
  {
   "cell_type": "code",
   "execution_count": 48,
   "id": "1059936c-262d-4158-a6b2-fea8be1381ae",
   "metadata": {},
   "outputs": [],
   "source": [
    "# add definition as new column\n",
    "df_ords_prods_cust.loc[counscious_shopper, 'customer_profile'] = 'Conscious Shopper'"
   ]
  },
  {
   "cell_type": "code",
   "execution_count": 49,
   "id": "be01c6c6-e5d2-470b-a183-5255f7778476",
   "metadata": {},
   "outputs": [],
   "source": [
    "# creating customer profile flag: urban shopper\n",
    "\n",
    "# assigning criteria to seperate definitions\n",
    "urb_day = df_ords_prods_cust['orders_day_of_week'].isin([5,6])\n",
    "urb_hour = df_ords_prods_cust['order_hour_of_day'].between(17, 22)\n",
    "urb_age = df_ords_prods_cust['age'].between(18, 40)\n",
    "urb_size = df_ords_prods_cust['n_dependants'].isin([0, 1])\n",
    "urb_dept = df_ords_prods_cust['department_id'].isin([5,7,14,19,20])"
   ]
  },
  {
   "cell_type": "code",
   "execution_count": 50,
   "id": "fc54d475-2cd3-414a-b11d-f292bffe1527",
   "metadata": {},
   "outputs": [],
   "source": [
    "# merging definitions\n",
    "urban_shopper = urb_day & urb_hour & urb_age & urb_size & urb_dept"
   ]
  },
  {
   "cell_type": "code",
   "execution_count": 51,
   "id": "f7836c3e-9aee-43a6-9e8c-46a813de8166",
   "metadata": {},
   "outputs": [],
   "source": [
    "# add definition as new column\n",
    "df_ords_prods_cust.loc[urban_shopper, 'customer_profile'] = 'Urban Shopper'"
   ]
  },
  {
   "cell_type": "code",
   "execution_count": 52,
   "id": "5102f9a8-5b1a-4106-b230-5c8ffb5257b8",
   "metadata": {},
   "outputs": [
    {
     "data": {
      "text/plain": [
       "Index(['user_id', 'm/f', 'state', 'age', 'date_joined', 'n_dependants',\n",
       "       'maritial_status', 'income', 'order_number', 'orders_day_of_week',\n",
       "       'order_hour_of_day', 'days_since_last_order', 'first_order',\n",
       "       'product_id', 'add_to_cart_order', 'reordered', 'product_name',\n",
       "       'aisle_id', 'department_id', 'prices', 'busy_days',\n",
       "       'busiest_period_of_day', 'max_order', 'loyalty_flag',\n",
       "       'average_spending', 'spending_type', 'order_frequency', 'customer_type',\n",
       "       'region', 'activity_type', 'customer_profile'],\n",
       "      dtype='object')"
      ]
     },
     "execution_count": 52,
     "metadata": {},
     "output_type": "execute_result"
    }
   ],
   "source": [
    "# confirming new column customer_profile is added to the dataframe\n",
    "df_ords_prods_cust.columns"
   ]
  },
  {
   "cell_type": "code",
   "execution_count": 53,
   "id": "1e88e7e7-6f30-45e3-a88f-996b253e10da",
   "metadata": {},
   "outputs": [
    {
     "data": {
      "text/plain": [
       "191901"
      ]
     },
     "execution_count": 53,
     "metadata": {},
     "output_type": "execute_result"
    }
   ],
   "source": [
    "# counting total unique customer profiles\n",
    "df_ords_prods_cust['user_id'].nunique()"
   ]
  },
  {
   "cell_type": "code",
   "execution_count": 54,
   "id": "19cb6c57-4b83-4d23-a004-7bd9178f5314",
   "metadata": {},
   "outputs": [
    {
     "data": {
      "text/plain": [
       "customer_profile\n",
       "Conscious Shopper    17696\n",
       "Family Shopper       16351\n",
       "Urban Shopper        11966\n",
       "Name: user_id, dtype: int64"
      ]
     },
     "execution_count": 54,
     "metadata": {},
     "output_type": "execute_result"
    }
   ],
   "source": [
    "# counting unique customer profiles per profile\n",
    "df_ords_prods_cust.groupby('customer_profile')['user_id'].nunique()"
   ]
  },
  {
   "cell_type": "markdown",
   "id": "6c283e02-01f3-479f-84f9-f5359a3bc4be",
   "metadata": {},
   "source": [
    " . . . . . . . . . . . . . . . . . . . . . . . . . . . . . . . . . . . . . . . . . . . . . . . . . . . . . . . . . . . . . . . . . . . . . . . . . . . . . . . . . . . . . . . . . . . . . . . . . . . . . . . . . . . . . . . ."
   ]
  },
  {
   "cell_type": "code",
   "execution_count": 56,
   "id": "54ab7f40-0b2f-4dac-89a5-d9a5b01105fb",
   "metadata": {},
   "outputs": [
    {
     "data": {
      "image/png": "[encoded data removed]",
      "text/plain": [
       "<Figure size 640x480 with 1 Axes>"
      ]
     },
     "metadata": {},
     "output_type": "display_data"
    }
   ],
   "source": [
    "#visualizing the number of customer profiles as part of a whole\n",
    "\n",
    "# plot data\n",
    "labels = ['Conscious Shopper', 'Family Shopper', 'Urban Shopper', 'Customer Profile N/A']\n",
    "sizes = [17696, 16351, 11966, 145888]\n",
    "cs = palette[6]\n",
    "fs = palette[5]\n",
    "us = palette[3]\n",
    "na = palette[7]\n",
    "\n",
    "# create donut\n",
    "plt.pie(sizes, labels=labels, colors=[cs, fs, us, na], autopct='%1.1f%%', startangle=140, wedgeprops={'linewidth' : 7, 'edgecolor' : 'white'})\n",
    "\n",
    "# lay out\n",
    "plt.title('Conscious Shoppers Lead the Share of Purchases among Customer Profiles')\n",
    "my_circle = plt.Circle( (0,0), 0.4, color='white')\n",
    "p = plt.gcf()\n",
    "p.gca().add_artist(my_circle)\n",
    "\n",
    "# save plot\n",
    "donut = os.path.join(path, '04 Analysis', 'Visualizations', 'customerprofile_share.png')\n",
    "plt.savefig(donut, bbox_inches='tight')"
   ]
  },
  {
   "cell_type": "markdown",
   "id": "ecb72068-f97b-41fd-b832-517ca5c31aba",
   "metadata": {},
   "source": [
    " . . . . . . . . . . . . . . . . . . . . . . . . . . . . . . . . . . . . . . . . . . . . . . . . . . . . . . . .  . . . . . . . . . . . . . . . . . . . . . . . . . . . . . . . . . . . . . . . . . . . . . . . . . . . . . . . ."
   ]
  },
  {
   "cell_type": "code",
   "execution_count": 58,
   "id": "188cc8b4-0bd5-4046-9d8d-738c229f8027",
   "metadata": {},
   "outputs": [
    {
     "data": {
      "text/html": [
       "<div>\n",
       "<style scoped>\n",
       "    .dataframe tbody tr th:only-of-type {\n",
       "        vertical-align: middle;\n",
       "    }\n",
       "\n",
       "    .dataframe tbody tr th {\n",
       "        vertical-align: top;\n",
       "    }\n",
       "\n",
       "    .dataframe thead tr th {\n",
       "        text-align: left;\n",
       "    }\n",
       "\n",
       "    .dataframe thead tr:last-of-type th {\n",
       "        text-align: right;\n",
       "    }\n",
       "</style>\n",
       "<table border=\"1\" class=\"dataframe\">\n",
       "  <thead>\n",
       "    <tr>\n",
       "      <th></th>\n",
       "      <th colspan=\"3\" halign=\"left\">order_frequency</th>\n",
       "      <th colspan=\"3\" halign=\"left\">average_spending</th>\n",
       "    </tr>\n",
       "    <tr>\n",
       "      <th></th>\n",
       "      <th>min</th>\n",
       "      <th>max</th>\n",
       "      <th>mean</th>\n",
       "      <th>min</th>\n",
       "      <th>max</th>\n",
       "      <th>mean</th>\n",
       "    </tr>\n",
       "    <tr>\n",
       "      <th>customer_profile</th>\n",
       "      <th></th>\n",
       "      <th></th>\n",
       "      <th></th>\n",
       "      <th></th>\n",
       "      <th></th>\n",
       "      <th></th>\n",
       "    </tr>\n",
       "  </thead>\n",
       "  <tbody>\n",
       "    <tr>\n",
       "      <th>Conscious Shopper</th>\n",
       "      <td>5.0</td>\n",
       "      <td>30.0</td>\n",
       "      <td>11.192106</td>\n",
       "      <td>1.30</td>\n",
       "      <td>20.114286</td>\n",
       "      <td>7.801149</td>\n",
       "    </tr>\n",
       "    <tr>\n",
       "      <th>Family Shopper</th>\n",
       "      <td>5.0</td>\n",
       "      <td>30.0</td>\n",
       "      <td>11.938507</td>\n",
       "      <td>1.90</td>\n",
       "      <td>13.798667</td>\n",
       "      <td>7.763282</td>\n",
       "    </tr>\n",
       "    <tr>\n",
       "      <th>Urban Shopper</th>\n",
       "      <td>5.0</td>\n",
       "      <td>30.0</td>\n",
       "      <td>11.765318</td>\n",
       "      <td>2.38</td>\n",
       "      <td>13.800000</td>\n",
       "      <td>7.710779</td>\n",
       "    </tr>\n",
       "  </tbody>\n",
       "</table>\n",
       "</div>"
      ],
      "text/plain": [
       "                  order_frequency                  average_spending  \\\n",
       "                              min   max       mean              min   \n",
       "customer_profile                                                      \n",
       "Conscious Shopper             5.0  30.0  11.192106             1.30   \n",
       "Family Shopper                5.0  30.0  11.938507             1.90   \n",
       "Urban Shopper                 5.0  30.0  11.765318             2.38   \n",
       "\n",
       "                                        \n",
       "                         max      mean  \n",
       "customer_profile                        \n",
       "Conscious Shopper  20.114286  7.801149  \n",
       "Family Shopper     13.798667  7.763282  \n",
       "Urban Shopper      13.800000  7.710779  "
      ]
     },
     "execution_count": 58,
     "metadata": {},
     "output_type": "execute_result"
    }
   ],
   "source": [
    "# aggregating user frequency and expenditure per customer profile\n",
    "df_ords_prods_cust.groupby('customer_profile').agg({'order_frequency': ['min', 'max', 'mean'], 'average_spending': ['min', 'max', 'mean']})"
   ]
  },
  {
   "cell_type": "code",
   "execution_count": 59,
   "id": "00641ef5-0bbc-46ff-9c70-21953c1469fc",
   "metadata": {},
   "outputs": [],
   "source": [
    "# comparing the number customer profiles per region\n",
    "customer_profile_region = df_ords_prods_cust.groupby(['customer_profile', 'region'])['user_id'].nunique().unstack(fill_value=0)"
   ]
  },
  {
   "cell_type": "code",
   "execution_count": 60,
   "id": "3031653b-5549-44f8-a4c0-cd7e5b0dea38",
   "metadata": {},
   "outputs": [
    {
     "data": {
      "text/html": [
       "<div>\n",
       "<style scoped>\n",
       "    .dataframe tbody tr th:only-of-type {\n",
       "        vertical-align: middle;\n",
       "    }\n",
       "\n",
       "    .dataframe tbody tr th {\n",
       "        vertical-align: top;\n",
       "    }\n",
       "\n",
       "    .dataframe thead th {\n",
       "        text-align: right;\n",
       "    }\n",
       "</style>\n",
       "<table border=\"1\" class=\"dataframe\">\n",
       "  <thead>\n",
       "    <tr style=\"text-align: right;\">\n",
       "      <th>region</th>\n",
       "      <th>Midwest</th>\n",
       "      <th>Northeast</th>\n",
       "      <th>South</th>\n",
       "      <th>West</th>\n",
       "    </tr>\n",
       "    <tr>\n",
       "      <th>customer_profile</th>\n",
       "      <th></th>\n",
       "      <th></th>\n",
       "      <th></th>\n",
       "      <th></th>\n",
       "    </tr>\n",
       "  </thead>\n",
       "  <tbody>\n",
       "    <tr>\n",
       "      <th>Conscious Shopper</th>\n",
       "      <td>4192</td>\n",
       "      <td>3142</td>\n",
       "      <td>5856</td>\n",
       "      <td>4506</td>\n",
       "    </tr>\n",
       "    <tr>\n",
       "      <th>Family Shopper</th>\n",
       "      <td>3770</td>\n",
       "      <td>2864</td>\n",
       "      <td>5500</td>\n",
       "      <td>4217</td>\n",
       "    </tr>\n",
       "    <tr>\n",
       "      <th>Urban Shopper</th>\n",
       "      <td>2845</td>\n",
       "      <td>2104</td>\n",
       "      <td>3986</td>\n",
       "      <td>3031</td>\n",
       "    </tr>\n",
       "  </tbody>\n",
       "</table>\n",
       "</div>"
      ],
      "text/plain": [
       "region             Midwest  Northeast  South  West\n",
       "customer_profile                                  \n",
       "Conscious Shopper     4192       3142   5856  4506\n",
       "Family Shopper        3770       2864   5500  4217\n",
       "Urban Shopper         2845       2104   3986  3031"
      ]
     },
     "execution_count": 60,
     "metadata": {},
     "output_type": "execute_result"
    }
   ],
   "source": [
    "# reading values\n",
    "customer_profile_region"
   ]
  },
  {
   "cell_type": "code",
   "execution_count": 61,
   "id": "e80d6833-32c5-4cf5-8743-694e3a28ad8e",
   "metadata": {},
   "outputs": [
    {
     "data": {
      "image/png": "[encoded data removed]",
      "text/plain": [
       "<Figure size 640x480 with 1 Axes>"
      ]
     },
     "metadata": {},
     "output_type": "display_data"
    }
   ],
   "source": [
    "#visualizing the number of customer profiles per region in a stacked bar chart\n",
    "st_bar = customer_profile_region.plot(kind='bar', stacked=True, color=[Midwest, Northeast, South, West])\n",
    "\n",
    "# lay out plot\n",
    "for c in st_bar.containers: st_bar.bar_label(c, label_type='center')\n",
    "plt.title('Number of Customers per Region by Customer Profile')\n",
    "plt.xlabel('Customer Profile'), plt.xticks(rotation=0, ha='center')\n",
    "plt.ylabel('Number of Customers')\n",
    "plt.legend(title='Region')\n",
    "\n",
    "Midwest = palette[0]\n",
    "Northeast = palette[1]\n",
    "South = palette[2]\n",
    "West = palette[4]"
   ]
  },
  {
   "cell_type": "markdown",
   "id": "59950517-25fc-4f8b-8f8e-9023695a9a8e",
   "metadata": {},
   "source": [
    " . . . . . . . . . . . . . . . . . . . . . . . . . . . . . . . . . . . . . . . . . . . . . . . . . . . . . . . . . . . . . . . . . . . . . . . . . . . . . . . . . . . . . . . . . . . . . . . . . . . . . . . . . . . . . . . ."
   ]
  },
  {
   "cell_type": "code",
   "execution_count": 63,
   "id": "314b2021-0014-49c5-a0bb-616649dfdb5a",
   "metadata": {},
   "outputs": [],
   "source": [
    "# comparing the number customer profiles per department\n",
    "customer_profile_region_department = df_ords_prods_cust.groupby(['customer_profile', 'region', 'department_id'])['user_id'].nunique().unstack(fill_value=0)"
   ]
  },
  {
   "cell_type": "code",
   "execution_count": 64,
   "id": "cd4eecd4-587f-442e-b8ab-1d5035cd5a6e",
   "metadata": {},
   "outputs": [
    {
     "data": {
      "text/html": [
       "<div>\n",
       "<style scoped>\n",
       "    .dataframe tbody tr th:only-of-type {\n",
       "        vertical-align: middle;\n",
       "    }\n",
       "\n",
       "    .dataframe tbody tr th {\n",
       "        vertical-align: top;\n",
       "    }\n",
       "\n",
       "    .dataframe thead th {\n",
       "        text-align: right;\n",
       "    }\n",
       "</style>\n",
       "<table border=\"1\" class=\"dataframe\">\n",
       "  <thead>\n",
       "    <tr style=\"text-align: right;\">\n",
       "      <th></th>\n",
       "      <th>department_id</th>\n",
       "      <th>4</th>\n",
       "      <th>6</th>\n",
       "      <th>11</th>\n",
       "      <th>12</th>\n",
       "      <th>16</th>\n",
       "      <th>1</th>\n",
       "      <th>3</th>\n",
       "      <th>18</th>\n",
       "      <th>19</th>\n",
       "      <th>5</th>\n",
       "      <th>7</th>\n",
       "      <th>14</th>\n",
       "      <th>20</th>\n",
       "    </tr>\n",
       "    <tr>\n",
       "      <th>customer_profile</th>\n",
       "      <th>region</th>\n",
       "      <th></th>\n",
       "      <th></th>\n",
       "      <th></th>\n",
       "      <th></th>\n",
       "      <th></th>\n",
       "      <th></th>\n",
       "      <th></th>\n",
       "      <th></th>\n",
       "      <th></th>\n",
       "      <th></th>\n",
       "      <th></th>\n",
       "      <th></th>\n",
       "      <th></th>\n",
       "    </tr>\n",
       "  </thead>\n",
       "  <tbody>\n",
       "    <tr>\n",
       "      <th rowspan=\"4\" valign=\"top\">Conscious Shopper</th>\n",
       "      <th>Midwest</th>\n",
       "      <td>3658</td>\n",
       "      <td>656</td>\n",
       "      <td>962</td>\n",
       "      <td>1309</td>\n",
       "      <td>3482</td>\n",
       "      <td>0</td>\n",
       "      <td>0</td>\n",
       "      <td>0</td>\n",
       "      <td>0</td>\n",
       "      <td>0</td>\n",
       "      <td>0</td>\n",
       "      <td>0</td>\n",
       "      <td>0</td>\n",
       "    </tr>\n",
       "    <tr>\n",
       "      <th>Northeast</th>\n",
       "      <td>2743</td>\n",
       "      <td>494</td>\n",
       "      <td>719</td>\n",
       "      <td>938</td>\n",
       "      <td>2641</td>\n",
       "      <td>0</td>\n",
       "      <td>0</td>\n",
       "      <td>0</td>\n",
       "      <td>0</td>\n",
       "      <td>0</td>\n",
       "      <td>0</td>\n",
       "      <td>0</td>\n",
       "      <td>0</td>\n",
       "    </tr>\n",
       "    <tr>\n",
       "      <th>South</th>\n",
       "      <td>5161</td>\n",
       "      <td>880</td>\n",
       "      <td>1305</td>\n",
       "      <td>1868</td>\n",
       "      <td>4906</td>\n",
       "      <td>0</td>\n",
       "      <td>0</td>\n",
       "      <td>0</td>\n",
       "      <td>0</td>\n",
       "      <td>0</td>\n",
       "      <td>0</td>\n",
       "      <td>0</td>\n",
       "      <td>0</td>\n",
       "    </tr>\n",
       "    <tr>\n",
       "      <th>West</th>\n",
       "      <td>3959</td>\n",
       "      <td>671</td>\n",
       "      <td>1010</td>\n",
       "      <td>1481</td>\n",
       "      <td>3737</td>\n",
       "      <td>0</td>\n",
       "      <td>0</td>\n",
       "      <td>0</td>\n",
       "      <td>0</td>\n",
       "      <td>0</td>\n",
       "      <td>0</td>\n",
       "      <td>0</td>\n",
       "      <td>0</td>\n",
       "    </tr>\n",
       "    <tr>\n",
       "      <th rowspan=\"4\" valign=\"top\">Family Shopper</th>\n",
       "      <th>Midwest</th>\n",
       "      <td>0</td>\n",
       "      <td>0</td>\n",
       "      <td>0</td>\n",
       "      <td>0</td>\n",
       "      <td>3251</td>\n",
       "      <td>2348</td>\n",
       "      <td>1841</td>\n",
       "      <td>347</td>\n",
       "      <td>2550</td>\n",
       "      <td>0</td>\n",
       "      <td>0</td>\n",
       "      <td>0</td>\n",
       "      <td>0</td>\n",
       "    </tr>\n",
       "    <tr>\n",
       "      <th>Northeast</th>\n",
       "      <td>0</td>\n",
       "      <td>0</td>\n",
       "      <td>0</td>\n",
       "      <td>0</td>\n",
       "      <td>2509</td>\n",
       "      <td>1783</td>\n",
       "      <td>1397</td>\n",
       "      <td>277</td>\n",
       "      <td>1891</td>\n",
       "      <td>0</td>\n",
       "      <td>0</td>\n",
       "      <td>0</td>\n",
       "      <td>0</td>\n",
       "    </tr>\n",
       "    <tr>\n",
       "      <th>South</th>\n",
       "      <td>0</td>\n",
       "      <td>0</td>\n",
       "      <td>0</td>\n",
       "      <td>0</td>\n",
       "      <td>4754</td>\n",
       "      <td>3500</td>\n",
       "      <td>2720</td>\n",
       "      <td>525</td>\n",
       "      <td>3740</td>\n",
       "      <td>0</td>\n",
       "      <td>0</td>\n",
       "      <td>0</td>\n",
       "      <td>0</td>\n",
       "    </tr>\n",
       "    <tr>\n",
       "      <th>West</th>\n",
       "      <td>0</td>\n",
       "      <td>0</td>\n",
       "      <td>0</td>\n",
       "      <td>0</td>\n",
       "      <td>3686</td>\n",
       "      <td>2658</td>\n",
       "      <td>2093</td>\n",
       "      <td>372</td>\n",
       "      <td>2837</td>\n",
       "      <td>0</td>\n",
       "      <td>0</td>\n",
       "      <td>0</td>\n",
       "      <td>0</td>\n",
       "    </tr>\n",
       "    <tr>\n",
       "      <th rowspan=\"4\" valign=\"top\">Urban Shopper</th>\n",
       "      <th>Midwest</th>\n",
       "      <td>0</td>\n",
       "      <td>0</td>\n",
       "      <td>0</td>\n",
       "      <td>0</td>\n",
       "      <td>0</td>\n",
       "      <td>0</td>\n",
       "      <td>0</td>\n",
       "      <td>0</td>\n",
       "      <td>1878</td>\n",
       "      <td>126</td>\n",
       "      <td>1938</td>\n",
       "      <td>799</td>\n",
       "      <td>1188</td>\n",
       "    </tr>\n",
       "    <tr>\n",
       "      <th>Northeast</th>\n",
       "      <td>0</td>\n",
       "      <td>0</td>\n",
       "      <td>0</td>\n",
       "      <td>0</td>\n",
       "      <td>0</td>\n",
       "      <td>0</td>\n",
       "      <td>0</td>\n",
       "      <td>0</td>\n",
       "      <td>1383</td>\n",
       "      <td>101</td>\n",
       "      <td>1429</td>\n",
       "      <td>597</td>\n",
       "      <td>868</td>\n",
       "    </tr>\n",
       "    <tr>\n",
       "      <th>South</th>\n",
       "      <td>0</td>\n",
       "      <td>0</td>\n",
       "      <td>0</td>\n",
       "      <td>0</td>\n",
       "      <td>0</td>\n",
       "      <td>0</td>\n",
       "      <td>0</td>\n",
       "      <td>0</td>\n",
       "      <td>2650</td>\n",
       "      <td>187</td>\n",
       "      <td>2700</td>\n",
       "      <td>1155</td>\n",
       "      <td>1621</td>\n",
       "    </tr>\n",
       "    <tr>\n",
       "      <th>West</th>\n",
       "      <td>0</td>\n",
       "      <td>0</td>\n",
       "      <td>0</td>\n",
       "      <td>0</td>\n",
       "      <td>0</td>\n",
       "      <td>0</td>\n",
       "      <td>0</td>\n",
       "      <td>0</td>\n",
       "      <td>1985</td>\n",
       "      <td>154</td>\n",
       "      <td>2069</td>\n",
       "      <td>886</td>\n",
       "      <td>1266</td>\n",
       "    </tr>\n",
       "  </tbody>\n",
       "</table>\n",
       "</div>"
      ],
      "text/plain": [
       "department_id                  4    6     11    12    16    1     3    18  \\\n",
       "customer_profile  region                                                    \n",
       "Conscious Shopper Midwest    3658  656   962  1309  3482     0     0    0   \n",
       "                  Northeast  2743  494   719   938  2641     0     0    0   \n",
       "                  South      5161  880  1305  1868  4906     0     0    0   \n",
       "                  West       3959  671  1010  1481  3737     0     0    0   \n",
       "Family Shopper    Midwest       0    0     0     0  3251  2348  1841  347   \n",
       "                  Northeast     0    0     0     0  2509  1783  1397  277   \n",
       "                  South         0    0     0     0  4754  3500  2720  525   \n",
       "                  West          0    0     0     0  3686  2658  2093  372   \n",
       "Urban Shopper     Midwest       0    0     0     0     0     0     0    0   \n",
       "                  Northeast     0    0     0     0     0     0     0    0   \n",
       "                  South         0    0     0     0     0     0     0    0   \n",
       "                  West          0    0     0     0     0     0     0    0   \n",
       "\n",
       "department_id                  19   5     7     14    20  \n",
       "customer_profile  region                                  \n",
       "Conscious Shopper Midwest       0    0     0     0     0  \n",
       "                  Northeast     0    0     0     0     0  \n",
       "                  South         0    0     0     0     0  \n",
       "                  West          0    0     0     0     0  \n",
       "Family Shopper    Midwest    2550    0     0     0     0  \n",
       "                  Northeast  1891    0     0     0     0  \n",
       "                  South      3740    0     0     0     0  \n",
       "                  West       2837    0     0     0     0  \n",
       "Urban Shopper     Midwest    1878  126  1938   799  1188  \n",
       "                  Northeast  1383  101  1429   597   868  \n",
       "                  South      2650  187  2700  1155  1621  \n",
       "                  West       1985  154  2069   886  1266  "
      ]
     },
     "execution_count": 64,
     "metadata": {},
     "output_type": "execute_result"
    }
   ],
   "source": [
    "customer_profile_region_department"
   ]
  },
  {
   "cell_type": "code",
   "execution_count": 65,
   "id": "9983cdf5-8ecf-4090-a89b-b9786c5094f3",
   "metadata": {},
   "outputs": [
    {
     "data": {
      "text/plain": [
       "<matplotlib.legend.Legend at 0x3558bfaa0>"
      ]
     },
     "execution_count": 65,
     "metadata": {},
     "output_type": "execute_result"
    },
    {
     "data": {
      "image/png": "[encoded data removed]",
      "text/plain": [
       "<Figure size 1000x600 with 1 Axes>"
      ]
     },
     "metadata": {},
     "output_type": "display_data"
    }
   ],
   "source": [
    "# normalize absolute unique customers into ratio %\n",
    "customer_profile_region_department_percentage = customer_profile_region_department.div(customer_profile_region_department.sum(axis=1), axis=0) * 100\n",
    "\n",
    "# #visualizing the number of customer profiles per region in a stacked bar chart with percentages\n",
    "st_bar2 = customer_profile_region_department_percentage.plot(kind='bar', stacked=True, color=palette, figsize=(10, 6))\n",
    "\n",
    "# Lay out plot\n",
    "num_departments = customer_profile_region_department.shape[1]\n",
    "palette = sns.color_palette(\"tab20\", num_departments)\n",
    "\n",
    "for c in st_bar2.containers:\n",
    "    labels = [f'{v.get_height():.1f}%' if v.get_height() > 0 else '' for v in c]\n",
    "    st_bar2.bar_label(c, labels=labels, label_type='center')\n",
    "\n",
    "# axes\n",
    "plt.title('Department Success: Unique Customers per Profile Shopping Across Regions')\n",
    "plt.xlabel('Customer Profile')\n",
    "plt.xticks(rotation=45, ha='right')\n",
    "plt.ylabel('Percentage of Customers')\n",
    "\n",
    "# legend\n",
    "department_names = df_departments.iloc[0].to_dict()\n",
    "plt.legend([department_names.get(str(col), col) for col in df_departments.columns[1:]], title='Department_ID', bbox_to_anchor=(1.05, 1), borderaxespad=0.)"
   ]
  },
  {
   "cell_type": "code",
   "execution_count": 66,
   "id": "263f07dc-95e1-489e-9569-a2e1e808a55b",
   "metadata": {},
   "outputs": [],
   "source": [
    "# creating data dictionary to legend the deparment ids\n",
    "data_dictionary = df_departments.to_dict('index')"
   ]
  },
  {
   "cell_type": "code",
   "execution_count": 67,
   "id": "f6b5d80e-44cb-4e3e-bf70-53f1346f87c6",
   "metadata": {},
   "outputs": [
    {
     "data": {
      "text/plain": [
       "{0: {'department_id': 'department',\n",
       "  '1': 'frozen',\n",
       "  '2': 'other',\n",
       "  '3': 'bakery',\n",
       "  '4': 'produce',\n",
       "  '5': 'alcohol',\n",
       "  '6': 'international',\n",
       "  '7': 'beverages',\n",
       "  '8': 'pets',\n",
       "  '9': 'dry goods pasta',\n",
       "  '10': 'bulk',\n",
       "  '11': 'personal care',\n",
       "  '12': 'meat seafood',\n",
       "  '13': 'pantry',\n",
       "  '14': 'breakfast',\n",
       "  '15': 'canned goods',\n",
       "  '16': 'dairy eggs',\n",
       "  '17': 'household',\n",
       "  '18': 'babies',\n",
       "  '19': 'snacks',\n",
       "  '20': 'deli',\n",
       "  '21': 'missing'}}"
      ]
     },
     "execution_count": 67,
     "metadata": {},
     "output_type": "execute_result"
    }
   ],
   "source": [
    "# reading data dictionary output\n",
    "data_dictionary"
   ]
  },
  {
   "cell_type": "markdown",
   "id": "239c0c82-b8ef-43bd-8f76-97d584f1fc06",
   "metadata": {},
   "source": [
    " . . . . . . . . . . . . . . . . . . . . . . . . . . . . . . . . . . . . . . . . . . . . . . . . . . . . . . . . . . . . . . . . . . . . . . . . . . . . . . . . . . . . . . . . . . . . . . . . . . . . . . . . . . . . . . . ."
   ]
  },
  {
   "cell_type": "code",
   "execution_count": 69,
   "id": "3a634884-bf27-46f1-bd76-6ec41d33e217",
   "metadata": {},
   "outputs": [],
   "source": [
    "crosstab = pd.crosstab(df_ords_prods_cust['days_since_last_order'], df_ords_prods_cust['order_number'], dropna = False)"
   ]
  },
  {
   "cell_type": "code",
   "execution_count": 70,
   "id": "45ad4b94-e3a5-4417-8af3-428aecad60d6",
   "metadata": {},
   "outputs": [],
   "source": [
    "crosstab.to_clipboard()"
   ]
  },
  {
   "cell_type": "markdown",
   "id": "fa557f1d-bb96-4f76-a57d-4dc91bbc5ff9",
   "metadata": {},
   "source": [
    "### **3. SAVING & EXPORTING**"
   ]
  },
  {
   "cell_type": "code",
   "execution_count": 72,
   "id": "64e1f42f-6024-45fd-ba60-e4ca7628c9b8",
   "metadata": {},
   "outputs": [],
   "source": [
    "# save to export plots\n",
    "bar1.figure.savefig(os.path.join(path, '04 Analysis','Visualizations', 'lowspending_region.png'))"
   ]
  },
  {
   "cell_type": "code",
   "execution_count": 73,
   "id": "810d474b-eb47-4b8f-ae73-7590c3da6678",
   "metadata": {},
   "outputs": [],
   "source": [
    "bar2.figure.savefig(os.path.join(path, '04 Analysis','Visualizations', 'highspending_region.png'))"
   ]
  },
  {
   "cell_type": "code",
   "execution_count": 74,
   "id": "6bb382ec-217f-4a2c-8194-5720ccbd2c83",
   "metadata": {},
   "outputs": [],
   "source": [
    "st_bar.figure.savefig(os.path.join(path, '04 Analysis','Visualizations', 'customerprofiles_region.png'))"
   ]
  },
  {
   "cell_type": "code",
   "execution_count": 75,
   "id": "8acf256a-673e-4ded-b792-288191a3c343",
   "metadata": {},
   "outputs": [],
   "source": [
    "st_bar2.figure.savefig(os.path.join(path, '04 Analysis','Visualizations', 'deptsuccess_customerprofiles_region.png'))"
   ]
  }
 ],
 "metadata": {
  "kernelspec": {
   "display_name": "Python 3 (ipykernel)",
   "language": "python",
   "name": "python3"
  },
  "language_info": {
   "codemirror_mode": {
    "name": "ipython",
    "version": 3
   },
   "file_extension": ".py",
   "mimetype": "text/x-python",
   "name": "python",
   "nbconvert_exporter": "python",
   "pygments_lexer": "ipython3",
   "version": "3.12.4"
  }
 },
 "nbformat": 4,
 "nbformat_minor": 5
}
