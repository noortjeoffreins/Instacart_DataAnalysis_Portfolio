{
 "cells": [
  {
   "cell_type": "markdown",
   "id": "3ddc2dde-35f9-4b62-a000-d6f2c349efbc",
   "metadata": {},
   "source": [
    "### **INDEX**\n",
    "1. Setup Notebook\n",
    "2. Data wrangling\n",
    "3. Consistency checks\n",
    "4. Data cleaning\n",
    "5. Merging data\n",
    "6. Additional data cleaning\n",
    "7. Saving & Exporting"
   ]
  },
  {
   "cell_type": "markdown",
   "id": "5a4e277c-8587-496e-aa73-3e097ab62538",
   "metadata": {},
   "source": [
    " . . . . . . . . . . . . . . . . . . . . . . . . . . . . . . . . . . . . . . . . . . . . . . . . . . . . . . . . . . . . . . . . . . . . . . . . . . . . . . . . . . . . . . . . . . . . . . . . . . . . . . . . . . . . . . . ."
   ]
  },
  {
   "cell_type": "markdown",
   "id": "4c738e38-7969-4b39-94f6-433b6609b52d",
   "metadata": {},
   "source": [
    "### **1. SETUP NOTEBOOK**"
   ]
  },
  {
   "cell_type": "code",
   "execution_count": 6,
   "id": "afa8895d-3458-468f-9429-7cb35efae415",
   "metadata": {},
   "outputs": [],
   "source": [
    "# import libraries\n",
    "import pandas as pd\n",
    "import numpy as np\n",
    "import os"
   ]
  },
  {
   "cell_type": "code",
   "execution_count": 7,
   "id": "72ca5906-c3fb-4e0f-852b-761b7f9f2d9f",
   "metadata": {},
   "outputs": [],
   "source": [
    "# create path\n",
    "path = r'/Users/noortjeoffreins/Documents/Professional/CareerFoundry/2. Data Immersion/2.4 Python Fundamentals for Data Analysts/Instacart Basket Analysis'"
   ]
  },
  {
   "cell_type": "code",
   "execution_count": 8,
   "id": "7873315e-f064-4f76-8e7f-2e08f93407e4",
   "metadata": {},
   "outputs": [],
   "source": [
    "# import customers.csv\n",
    "df_customers = pd.read_csv(os.path.join(path, '02 Data', 'Original Data', 'customers.csv'))"
   ]
  },
  {
   "cell_type": "markdown",
   "id": "2d0e949c-cf1f-47a5-bf37-a58f81a084a2",
   "metadata": {},
   "source": [
    " . . . . . . . . . . . . . . . . . . . . . . . . . . . . . . . . . . . . . . . . . . . . . . . . . . . . . . . . . . . . . . . . . . . . . . . . . . . . . . . . . . . . . . . . . . . . . . . . . . . . . . . . . . . . . . . ."
   ]
  },
  {
   "cell_type": "markdown",
   "id": "0a94a608-0d80-4e28-a7f3-cb7150184c6d",
   "metadata": {},
   "source": [
    "### **2. DATA WRANGLING**"
   ]
  },
  {
   "cell_type": "code",
   "execution_count": 10,
   "id": "922f2279-73d0-4167-b85a-53b292a114a2",
   "metadata": {},
   "outputs": [
    {
     "data": {
      "text/plain": [
       "(206209, 10)"
      ]
     },
     "execution_count": 10,
     "metadata": {},
     "output_type": "execute_result"
    }
   ],
   "source": [
    "# checking scope of df\n",
    "df_customers.shape"
   ]
  },
  {
   "cell_type": "code",
   "execution_count": 11,
   "id": "276694ca-5fa7-4b79-90f3-302376fd8fd2",
   "metadata": {},
   "outputs": [
    {
     "data": {
      "text/html": [
       "<div>\n",
       "<style scoped>\n",
       "    .dataframe tbody tr th:only-of-type {\n",
       "        vertical-align: middle;\n",
       "    }\n",
       "\n",
       "    .dataframe tbody tr th {\n",
       "        vertical-align: top;\n",
       "    }\n",
       "\n",
       "    .dataframe thead th {\n",
       "        text-align: right;\n",
       "    }\n",
       "</style>\n",
       "<table border=\"1\" class=\"dataframe\">\n",
       "  <thead>\n",
       "    <tr style=\"text-align: right;\">\n",
       "      <th></th>\n",
       "      <th>user_id</th>\n",
       "      <th>First Name</th>\n",
       "      <th>Surnam</th>\n",
       "      <th>Gender</th>\n",
       "      <th>STATE</th>\n",
       "      <th>Age</th>\n",
       "      <th>date_joined</th>\n",
       "      <th>n_dependants</th>\n",
       "      <th>fam_status</th>\n",
       "      <th>income</th>\n",
       "    </tr>\n",
       "  </thead>\n",
       "  <tbody>\n",
       "    <tr>\n",
       "      <th>0</th>\n",
       "      <td>26711</td>\n",
       "      <td>Deborah</td>\n",
       "      <td>Esquivel</td>\n",
       "      <td>Female</td>\n",
       "      <td>Missouri</td>\n",
       "      <td>48</td>\n",
       "      <td>1/1/2017</td>\n",
       "      <td>3</td>\n",
       "      <td>married</td>\n",
       "      <td>165665</td>\n",
       "    </tr>\n",
       "    <tr>\n",
       "      <th>1</th>\n",
       "      <td>33890</td>\n",
       "      <td>Patricia</td>\n",
       "      <td>Hart</td>\n",
       "      <td>Female</td>\n",
       "      <td>New Mexico</td>\n",
       "      <td>36</td>\n",
       "      <td>1/1/2017</td>\n",
       "      <td>0</td>\n",
       "      <td>single</td>\n",
       "      <td>59285</td>\n",
       "    </tr>\n",
       "    <tr>\n",
       "      <th>2</th>\n",
       "      <td>65803</td>\n",
       "      <td>Kenneth</td>\n",
       "      <td>Farley</td>\n",
       "      <td>Male</td>\n",
       "      <td>Idaho</td>\n",
       "      <td>35</td>\n",
       "      <td>1/1/2017</td>\n",
       "      <td>2</td>\n",
       "      <td>married</td>\n",
       "      <td>99568</td>\n",
       "    </tr>\n",
       "    <tr>\n",
       "      <th>3</th>\n",
       "      <td>125935</td>\n",
       "      <td>Michelle</td>\n",
       "      <td>Hicks</td>\n",
       "      <td>Female</td>\n",
       "      <td>Iowa</td>\n",
       "      <td>40</td>\n",
       "      <td>1/1/2017</td>\n",
       "      <td>0</td>\n",
       "      <td>single</td>\n",
       "      <td>42049</td>\n",
       "    </tr>\n",
       "    <tr>\n",
       "      <th>4</th>\n",
       "      <td>130797</td>\n",
       "      <td>Ann</td>\n",
       "      <td>Gilmore</td>\n",
       "      <td>Female</td>\n",
       "      <td>Maryland</td>\n",
       "      <td>26</td>\n",
       "      <td>1/1/2017</td>\n",
       "      <td>1</td>\n",
       "      <td>married</td>\n",
       "      <td>40374</td>\n",
       "    </tr>\n",
       "  </tbody>\n",
       "</table>\n",
       "</div>"
      ],
      "text/plain": [
       "   user_id First Name    Surnam  Gender       STATE  Age date_joined  \\\n",
       "0    26711    Deborah  Esquivel  Female    Missouri   48    1/1/2017   \n",
       "1    33890   Patricia      Hart  Female  New Mexico   36    1/1/2017   \n",
       "2    65803    Kenneth    Farley    Male       Idaho   35    1/1/2017   \n",
       "3   125935   Michelle     Hicks  Female        Iowa   40    1/1/2017   \n",
       "4   130797        Ann   Gilmore  Female    Maryland   26    1/1/2017   \n",
       "\n",
       "   n_dependants fam_status  income  \n",
       "0             3    married  165665  \n",
       "1             0     single   59285  \n",
       "2             2    married   99568  \n",
       "3             0     single   42049  \n",
       "4             1    married   40374  "
      ]
     },
     "execution_count": 11,
     "metadata": {},
     "output_type": "execute_result"
    }
   ],
   "source": [
    "# checking columns\n",
    "df_customers.head()"
   ]
  },
  {
   "cell_type": "code",
   "execution_count": 12,
   "id": "636d155f-97d2-46e6-8441-1358ca7d822a",
   "metadata": {},
   "outputs": [],
   "source": [
    "# rename columns \n",
    "df_customers.rename(columns = {'First Name':'first_name', 'Surnam':'last_name', 'Gender':'m/f', 'STATE':'state', 'Age' : 'age', 'fam_status':'maritial_status'}, inplace = True)"
   ]
  },
  {
   "cell_type": "code",
   "execution_count": 13,
   "id": "f9d745f6-5eb5-45fd-9a93-eac052f6d487",
   "metadata": {},
   "outputs": [
    {
     "data": {
      "text/html": [
       "<div>\n",
       "<style scoped>\n",
       "    .dataframe tbody tr th:only-of-type {\n",
       "        vertical-align: middle;\n",
       "    }\n",
       "\n",
       "    .dataframe tbody tr th {\n",
       "        vertical-align: top;\n",
       "    }\n",
       "\n",
       "    .dataframe thead th {\n",
       "        text-align: right;\n",
       "    }\n",
       "</style>\n",
       "<table border=\"1\" class=\"dataframe\">\n",
       "  <thead>\n",
       "    <tr style=\"text-align: right;\">\n",
       "      <th></th>\n",
       "      <th>user_id</th>\n",
       "      <th>first_name</th>\n",
       "      <th>last_name</th>\n",
       "      <th>m/f</th>\n",
       "      <th>state</th>\n",
       "      <th>age</th>\n",
       "      <th>date_joined</th>\n",
       "      <th>n_dependants</th>\n",
       "      <th>maritial_status</th>\n",
       "      <th>income</th>\n",
       "    </tr>\n",
       "  </thead>\n",
       "  <tbody>\n",
       "    <tr>\n",
       "      <th>0</th>\n",
       "      <td>26711</td>\n",
       "      <td>Deborah</td>\n",
       "      <td>Esquivel</td>\n",
       "      <td>Female</td>\n",
       "      <td>Missouri</td>\n",
       "      <td>48</td>\n",
       "      <td>1/1/2017</td>\n",
       "      <td>3</td>\n",
       "      <td>married</td>\n",
       "      <td>165665</td>\n",
       "    </tr>\n",
       "    <tr>\n",
       "      <th>1</th>\n",
       "      <td>33890</td>\n",
       "      <td>Patricia</td>\n",
       "      <td>Hart</td>\n",
       "      <td>Female</td>\n",
       "      <td>New Mexico</td>\n",
       "      <td>36</td>\n",
       "      <td>1/1/2017</td>\n",
       "      <td>0</td>\n",
       "      <td>single</td>\n",
       "      <td>59285</td>\n",
       "    </tr>\n",
       "    <tr>\n",
       "      <th>2</th>\n",
       "      <td>65803</td>\n",
       "      <td>Kenneth</td>\n",
       "      <td>Farley</td>\n",
       "      <td>Male</td>\n",
       "      <td>Idaho</td>\n",
       "      <td>35</td>\n",
       "      <td>1/1/2017</td>\n",
       "      <td>2</td>\n",
       "      <td>married</td>\n",
       "      <td>99568</td>\n",
       "    </tr>\n",
       "    <tr>\n",
       "      <th>3</th>\n",
       "      <td>125935</td>\n",
       "      <td>Michelle</td>\n",
       "      <td>Hicks</td>\n",
       "      <td>Female</td>\n",
       "      <td>Iowa</td>\n",
       "      <td>40</td>\n",
       "      <td>1/1/2017</td>\n",
       "      <td>0</td>\n",
       "      <td>single</td>\n",
       "      <td>42049</td>\n",
       "    </tr>\n",
       "    <tr>\n",
       "      <th>4</th>\n",
       "      <td>130797</td>\n",
       "      <td>Ann</td>\n",
       "      <td>Gilmore</td>\n",
       "      <td>Female</td>\n",
       "      <td>Maryland</td>\n",
       "      <td>26</td>\n",
       "      <td>1/1/2017</td>\n",
       "      <td>1</td>\n",
       "      <td>married</td>\n",
       "      <td>40374</td>\n",
       "    </tr>\n",
       "  </tbody>\n",
       "</table>\n",
       "</div>"
      ],
      "text/plain": [
       "   user_id first_name last_name     m/f       state  age date_joined  \\\n",
       "0    26711    Deborah  Esquivel  Female    Missouri   48    1/1/2017   \n",
       "1    33890   Patricia      Hart  Female  New Mexico   36    1/1/2017   \n",
       "2    65803    Kenneth    Farley    Male       Idaho   35    1/1/2017   \n",
       "3   125935   Michelle     Hicks  Female        Iowa   40    1/1/2017   \n",
       "4   130797        Ann   Gilmore  Female    Maryland   26    1/1/2017   \n",
       "\n",
       "   n_dependants maritial_status  income  \n",
       "0             3         married  165665  \n",
       "1             0          single   59285  \n",
       "2             2         married   99568  \n",
       "3             0          single   42049  \n",
       "4             1         married   40374  "
      ]
     },
     "execution_count": 13,
     "metadata": {},
     "output_type": "execute_result"
    }
   ],
   "source": [
    "# confirm renamed columns\n",
    "df_customers.head()"
   ]
  },
  {
   "cell_type": "code",
   "execution_count": 14,
   "id": "3caaecaf-98a8-4bc9-9e64-432b06fed57b",
   "metadata": {},
   "outputs": [
    {
     "data": {
      "text/plain": [
       "user_id             int64\n",
       "first_name         object\n",
       "last_name          object\n",
       "m/f                object\n",
       "state              object\n",
       "age                 int64\n",
       "date_joined        object\n",
       "n_dependants        int64\n",
       "maritial_status    object\n",
       "income              int64\n",
       "dtype: object"
      ]
     },
     "execution_count": 14,
     "metadata": {},
     "output_type": "execute_result"
    }
   ],
   "source": [
    "# check data types columns\n",
    "df_customers.dtypes"
   ]
  },
  {
   "cell_type": "code",
   "execution_count": 15,
   "id": "b69b2b71-7747-4cff-bd9f-e33b2f176291",
   "metadata": {},
   "outputs": [],
   "source": [
    "# change data type date_joined\n",
    "df_customers['date_joined'] = df_customers['date_joined'].astype('datetime64[ns]')"
   ]
  },
  {
   "cell_type": "code",
   "execution_count": 16,
   "id": "2a292ce0-8f24-451d-b856-f5ff5b593c17",
   "metadata": {},
   "outputs": [
    {
     "data": {
      "text/plain": [
       "user_id                     int64\n",
       "first_name                 object\n",
       "last_name                  object\n",
       "m/f                        object\n",
       "state                      object\n",
       "age                         int64\n",
       "date_joined        datetime64[ns]\n",
       "n_dependants                int64\n",
       "maritial_status            object\n",
       "income                      int64\n",
       "dtype: object"
      ]
     },
     "execution_count": 16,
     "metadata": {},
     "output_type": "execute_result"
    }
   ],
   "source": [
    "# confirm adjusted data types\n",
    "df_customers.dtypes"
   ]
  },
  {
   "cell_type": "markdown",
   "id": "7e13107b-959e-47e7-bcea-acfdc12c82fc",
   "metadata": {},
   "source": [
    " . . . . . . . . . . . . . . . . . . . . . . . . . . . . . . . . . . . . . . . . . . . . . . . . . . . . . . . . . . . . . . . . . . . . . . . . . . . . . . . . . . . . . . . . . . . . . . . . . . . . . . . . . . . . . . . ."
   ]
  },
  {
   "cell_type": "markdown",
   "id": "6809b4a6-13cb-44cf-83a0-c012a8b1d651",
   "metadata": {},
   "source": [
    "### **3. CONSISTENCY CHECKS**"
   ]
  },
  {
   "cell_type": "code",
   "execution_count": 18,
   "id": "14ebf42d-1be9-4e86-be6d-c4cb6960ab5f",
   "metadata": {},
   "outputs": [
    {
     "data": {
      "text/plain": [
       "user_id                0\n",
       "first_name         11259\n",
       "last_name              0\n",
       "m/f                    0\n",
       "state                  0\n",
       "age                    0\n",
       "date_joined            0\n",
       "n_dependants           0\n",
       "maritial_status        0\n",
       "income                 0\n",
       "dtype: int64"
      ]
     },
     "execution_count": 18,
     "metadata": {},
     "output_type": "execute_result"
    }
   ],
   "source": [
    "# check for missing values\n",
    "df_customers.isnull().sum()"
   ]
  },
  {
   "cell_type": "code",
   "execution_count": 19,
   "id": "543ee9bd-3f0e-4fb2-8b61-dfc623081501",
   "metadata": {},
   "outputs": [
    {
     "data": {
      "text/plain": [
       "0"
      ]
     },
     "execution_count": 19,
     "metadata": {},
     "output_type": "execute_result"
    }
   ],
   "source": [
    "# check for duplicates\n",
    "df_customers.duplicated().sum()"
   ]
  },
  {
   "cell_type": "code",
   "execution_count": 20,
   "id": "cf7cccc1-07f7-4726-9ae6-613fc8686cb8",
   "metadata": {},
   "outputs": [
    {
     "name": "stdout",
     "output_type": "stream",
     "text": [
      "Name column: user_id, Type: [<class 'int'>]\n",
      "Name column: first_name, Type: [<class 'str'> <class 'float'>]\n"
     ]
    },
    {
     "data": {
      "text/plain": [
       "\"Column 'first_name' contains mixed types\""
      ]
     },
     "metadata": {},
     "output_type": "display_data"
    },
    {
     "name": "stdout",
     "output_type": "stream",
     "text": [
      "Name column: last_name, Type: [<class 'str'>]\n",
      "Name column: m/f, Type: [<class 'str'>]\n",
      "Name column: state, Type: [<class 'str'>]\n",
      "Name column: age, Type: [<class 'int'>]\n",
      "Name column: date_joined, Type: [<class 'pandas._libs.tslibs.timestamps.Timestamp'>]\n",
      "Name column: n_dependants, Type: [<class 'int'>]\n",
      "Name column: maritial_status, Type: [<class 'str'>]\n",
      "Name column: income, Type: [<class 'int'>]\n"
     ]
    }
   ],
   "source": [
    "# check for mixed data types\n",
    "for col in df_customers.columns.tolist():\n",
    "    types_in_column = df_customers [col].apply(type)\n",
    "    print(f\"Name column: {col}, Type: {types_in_column.unique()}\") \n",
    "    if len(types_in_column.unique()) > 1:\n",
    "        display(f\"Column '{col}' contains mixed types\")"
   ]
  },
  {
   "cell_type": "markdown",
   "id": "9fae250e-c31c-421c-8dab-4b51073123ef",
   "metadata": {},
   "source": [
    " . . . . . . . . . . . . . . . . . . . . . . . . . . . . . . . . . . . . . . . . . . . . . . . . . . . . . . . . . . . . . . . . . . . . . . . . . . . . . . . . . . . . . . . . . . . . . . . . . . . . . . . . . . . . . . . ."
   ]
  },
  {
   "cell_type": "markdown",
   "id": "bf820d9f-a159-4965-a388-cd7488bc7965",
   "metadata": {},
   "source": [
    "### **4. DATA CLEANING**"
   ]
  },
  {
   "cell_type": "code",
   "execution_count": 22,
   "id": "5fa97842-b672-496a-835b-5844faf888ba",
   "metadata": {},
   "outputs": [],
   "source": [
    "# dropping first_name and last_name for privacy / obsolescence\n",
    "df_customers_dropped = df_customers.drop(columns=['first_name', 'last_name'])"
   ]
  },
  {
   "cell_type": "code",
   "execution_count": 23,
   "id": "60ac9681-c652-4cbc-b2db-949acc0636ac",
   "metadata": {},
   "outputs": [
    {
     "data": {
      "text/plain": [
       "(206209, 8)"
      ]
     },
     "execution_count": 23,
     "metadata": {},
     "output_type": "execute_result"
    }
   ],
   "source": [
    "# confirm new columns by number\n",
    "df_customers_dropped.shape"
   ]
  },
  {
   "cell_type": "code",
   "execution_count": 24,
   "id": "fe8bd56a-c75d-4d5d-b9f2-e381ef59f33a",
   "metadata": {},
   "outputs": [
    {
     "data": {
      "text/plain": [
       "Index(['user_id', 'm/f', 'state', 'age', 'date_joined', 'n_dependants',\n",
       "       'maritial_status', 'income'],\n",
       "      dtype='object')"
      ]
     },
     "execution_count": 24,
     "metadata": {},
     "output_type": "execute_result"
    }
   ],
   "source": [
    "# confirm new columns by name\n",
    "df_customers_dropped.columns"
   ]
  },
  {
   "cell_type": "markdown",
   "id": "d96f4904-8f8b-4fed-a31d-2217e86bcb08",
   "metadata": {},
   "source": [
    " . . . . . . . . . . . . . . . . . . . . . . . . . . . . . . . . . . . . . . . . . . . . . . . . . . . . . . . . . . . . . . . . . . . . . . . . . . . . . . . . . . . . . . . . . . . . . . . . . . . . . . . . . . . . . . . ."
   ]
  },
  {
   "cell_type": "markdown",
   "id": "c529885f-ff5b-4118-9ce7-4d3f4f05c0ad",
   "metadata": {},
   "source": [
    "### **5. MERGING DATA**"
   ]
  },
  {
   "cell_type": "code",
   "execution_count": 26,
   "id": "23ffac77-598c-4883-ae89-eb63685103db",
   "metadata": {},
   "outputs": [],
   "source": [
    "# import orders & products to merge with \n",
    "df_ords_prods_merge = pd.read_pickle(os.path.join(path, '02 Data', 'Prepared Data', 'ords_prods_merge.pkl'))"
   ]
  },
  {
   "cell_type": "code",
   "execution_count": 27,
   "id": "2172d0b1-db1b-40db-8bdb-376388293d5e",
   "metadata": {},
   "outputs": [
    {
     "data": {
      "text/plain": [
       "user_id                     int64\n",
       "order_number                int64\n",
       "orders_day_of_week          int64\n",
       "order_hour_of_day           int64\n",
       "days_since_last_order     float64\n",
       "First_order                  bool\n",
       "product_id                  int64\n",
       "add_to_cart_order           int64\n",
       "reordered                   int64\n",
       "product_name               object\n",
       "aisle_id                    int64\n",
       "department_id               int64\n",
       "prices                    float64\n",
       "_merge                   category\n",
       "busy_days                  object\n",
       "busiest_period_of_day      object\n",
       "max_order                   int64\n",
       "loyalty_flag               object\n",
       "customer_type              object\n",
       "average_spending          float64\n",
       "spending_type              object\n",
       "order_frequency           float64\n",
       "Order regularity           object\n",
       "customer type              object\n",
       "dtype: object"
      ]
     },
     "execution_count": 27,
     "metadata": {},
     "output_type": "execute_result"
    }
   ],
   "source": [
    "# check columns and data type to find primary key to merge on \n",
    "df_ords_prods_merge.dtypes"
   ]
  },
  {
   "cell_type": "code",
   "execution_count": 28,
   "id": "9080ea79-4516-4344-87aa-b6366acf36bd",
   "metadata": {},
   "outputs": [],
   "source": [
    "# merging customers with orders & products on user_id\n",
    "df_ords_prods_cust = df_customers_dropped.merge(df_ords_prods_merge, on = 'user_id')"
   ]
  },
  {
   "cell_type": "code",
   "execution_count": 29,
   "id": "68f1be05-a880-4d40-b203-abb4b895e2f4",
   "metadata": {},
   "outputs": [
    {
     "data": {
      "text/html": [
       "<div>\n",
       "<style scoped>\n",
       "    .dataframe tbody tr th:only-of-type {\n",
       "        vertical-align: middle;\n",
       "    }\n",
       "\n",
       "    .dataframe tbody tr th {\n",
       "        vertical-align: top;\n",
       "    }\n",
       "\n",
       "    .dataframe thead th {\n",
       "        text-align: right;\n",
       "    }\n",
       "</style>\n",
       "<table border=\"1\" class=\"dataframe\">\n",
       "  <thead>\n",
       "    <tr style=\"text-align: right;\">\n",
       "      <th></th>\n",
       "      <th>user_id</th>\n",
       "      <th>m/f</th>\n",
       "      <th>state</th>\n",
       "      <th>age</th>\n",
       "      <th>date_joined</th>\n",
       "      <th>n_dependants</th>\n",
       "      <th>maritial_status</th>\n",
       "      <th>income</th>\n",
       "      <th>order_number</th>\n",
       "      <th>orders_day_of_week</th>\n",
       "      <th>...</th>\n",
       "      <th>busy_days</th>\n",
       "      <th>busiest_period_of_day</th>\n",
       "      <th>max_order</th>\n",
       "      <th>loyalty_flag</th>\n",
       "      <th>customer_type</th>\n",
       "      <th>average_spending</th>\n",
       "      <th>spending_type</th>\n",
       "      <th>order_frequency</th>\n",
       "      <th>Order regularity</th>\n",
       "      <th>customer type</th>\n",
       "    </tr>\n",
       "  </thead>\n",
       "  <tbody>\n",
       "    <tr>\n",
       "      <th>0</th>\n",
       "      <td>26711</td>\n",
       "      <td>Female</td>\n",
       "      <td>Missouri</td>\n",
       "      <td>48</td>\n",
       "      <td>2017-01-01</td>\n",
       "      <td>3</td>\n",
       "      <td>married</td>\n",
       "      <td>165665</td>\n",
       "      <td>1</td>\n",
       "      <td>2</td>\n",
       "      <td>...</td>\n",
       "      <td>Regularly busy day</td>\n",
       "      <td>Fewest orders</td>\n",
       "      <td>8</td>\n",
       "      <td>New customer</td>\n",
       "      <td>New customer</td>\n",
       "      <td>7.988889</td>\n",
       "      <td>Low spender</td>\n",
       "      <td>19.0</td>\n",
       "      <td>NaN</td>\n",
       "      <td>Regular customer</td>\n",
       "    </tr>\n",
       "    <tr>\n",
       "      <th>1</th>\n",
       "      <td>26711</td>\n",
       "      <td>Female</td>\n",
       "      <td>Missouri</td>\n",
       "      <td>48</td>\n",
       "      <td>2017-01-01</td>\n",
       "      <td>3</td>\n",
       "      <td>married</td>\n",
       "      <td>165665</td>\n",
       "      <td>2</td>\n",
       "      <td>2</td>\n",
       "      <td>...</td>\n",
       "      <td>Regularly busy day</td>\n",
       "      <td>Fewest orders</td>\n",
       "      <td>8</td>\n",
       "      <td>New customer</td>\n",
       "      <td>Existing customer</td>\n",
       "      <td>7.988889</td>\n",
       "      <td>Low spender</td>\n",
       "      <td>19.0</td>\n",
       "      <td>NaN</td>\n",
       "      <td>Regular customer</td>\n",
       "    </tr>\n",
       "    <tr>\n",
       "      <th>2</th>\n",
       "      <td>26711</td>\n",
       "      <td>Female</td>\n",
       "      <td>Missouri</td>\n",
       "      <td>48</td>\n",
       "      <td>2017-01-01</td>\n",
       "      <td>3</td>\n",
       "      <td>married</td>\n",
       "      <td>165665</td>\n",
       "      <td>3</td>\n",
       "      <td>3</td>\n",
       "      <td>...</td>\n",
       "      <td>Least busy days</td>\n",
       "      <td>Fewest orders</td>\n",
       "      <td>8</td>\n",
       "      <td>New customer</td>\n",
       "      <td>Existing customer</td>\n",
       "      <td>7.988889</td>\n",
       "      <td>Low spender</td>\n",
       "      <td>19.0</td>\n",
       "      <td>NaN</td>\n",
       "      <td>Regular customer</td>\n",
       "    </tr>\n",
       "    <tr>\n",
       "      <th>3</th>\n",
       "      <td>26711</td>\n",
       "      <td>Female</td>\n",
       "      <td>Missouri</td>\n",
       "      <td>48</td>\n",
       "      <td>2017-01-01</td>\n",
       "      <td>3</td>\n",
       "      <td>married</td>\n",
       "      <td>165665</td>\n",
       "      <td>3</td>\n",
       "      <td>3</td>\n",
       "      <td>...</td>\n",
       "      <td>Least busy days</td>\n",
       "      <td>Fewest orders</td>\n",
       "      <td>8</td>\n",
       "      <td>New customer</td>\n",
       "      <td>Existing customer</td>\n",
       "      <td>7.988889</td>\n",
       "      <td>Low spender</td>\n",
       "      <td>19.0</td>\n",
       "      <td>NaN</td>\n",
       "      <td>Regular customer</td>\n",
       "    </tr>\n",
       "    <tr>\n",
       "      <th>4</th>\n",
       "      <td>26711</td>\n",
       "      <td>Female</td>\n",
       "      <td>Missouri</td>\n",
       "      <td>48</td>\n",
       "      <td>2017-01-01</td>\n",
       "      <td>3</td>\n",
       "      <td>married</td>\n",
       "      <td>165665</td>\n",
       "      <td>3</td>\n",
       "      <td>3</td>\n",
       "      <td>...</td>\n",
       "      <td>Least busy days</td>\n",
       "      <td>Fewest orders</td>\n",
       "      <td>8</td>\n",
       "      <td>New customer</td>\n",
       "      <td>Existing customer</td>\n",
       "      <td>7.988889</td>\n",
       "      <td>Low spender</td>\n",
       "      <td>19.0</td>\n",
       "      <td>NaN</td>\n",
       "      <td>Regular customer</td>\n",
       "    </tr>\n",
       "  </tbody>\n",
       "</table>\n",
       "<p>5 rows × 31 columns</p>\n",
       "</div>"
      ],
      "text/plain": [
       "   user_id     m/f     state  age date_joined  n_dependants maritial_status  \\\n",
       "0    26711  Female  Missouri   48  2017-01-01             3         married   \n",
       "1    26711  Female  Missouri   48  2017-01-01             3         married   \n",
       "2    26711  Female  Missouri   48  2017-01-01             3         married   \n",
       "3    26711  Female  Missouri   48  2017-01-01             3         married   \n",
       "4    26711  Female  Missouri   48  2017-01-01             3         married   \n",
       "\n",
       "   income  order_number  orders_day_of_week  ...           busy_days  \\\n",
       "0  165665             1                   2  ...  Regularly busy day   \n",
       "1  165665             2                   2  ...  Regularly busy day   \n",
       "2  165665             3                   3  ...     Least busy days   \n",
       "3  165665             3                   3  ...     Least busy days   \n",
       "4  165665             3                   3  ...     Least busy days   \n",
       "\n",
       "   busiest_period_of_day  max_order  loyalty_flag      customer_type  \\\n",
       "0          Fewest orders          8  New customer       New customer   \n",
       "1          Fewest orders          8  New customer  Existing customer   \n",
       "2          Fewest orders          8  New customer  Existing customer   \n",
       "3          Fewest orders          8  New customer  Existing customer   \n",
       "4          Fewest orders          8  New customer  Existing customer   \n",
       "\n",
       "   average_spending spending_type  order_frequency  Order regularity  \\\n",
       "0          7.988889   Low spender             19.0               NaN   \n",
       "1          7.988889   Low spender             19.0               NaN   \n",
       "2          7.988889   Low spender             19.0               NaN   \n",
       "3          7.988889   Low spender             19.0               NaN   \n",
       "4          7.988889   Low spender             19.0               NaN   \n",
       "\n",
       "      customer type  \n",
       "0  Regular customer  \n",
       "1  Regular customer  \n",
       "2  Regular customer  \n",
       "3  Regular customer  \n",
       "4  Regular customer  \n",
       "\n",
       "[5 rows x 31 columns]"
      ]
     },
     "execution_count": 29,
     "metadata": {},
     "output_type": "execute_result"
    }
   ],
   "source": [
    "#check df \n",
    "df_ords_prods_cust.head()"
   ]
  },
  {
   "cell_type": "code",
   "execution_count": 30,
   "id": "a9f3cf6b-2e1c-4a84-8c37-a623fb9843ff",
   "metadata": {},
   "outputs": [
    {
     "data": {
      "text/plain": [
       "(32404859, 31)"
      ]
     },
     "execution_count": 30,
     "metadata": {},
     "output_type": "execute_result"
    }
   ],
   "source": [
    "df_ords_prods_cust.shape"
   ]
  },
  {
   "cell_type": "code",
   "execution_count": 31,
   "id": "c2cfaeac-470a-4768-afeb-a2c9584d19c1",
   "metadata": {},
   "outputs": [
    {
     "data": {
      "text/plain": [
       "Index(['user_id', 'm/f', 'state', 'age', 'date_joined', 'n_dependants',\n",
       "       'maritial_status', 'income', 'order_number', 'orders_day_of_week',\n",
       "       'order_hour_of_day', 'days_since_last_order', 'First_order',\n",
       "       'product_id', 'add_to_cart_order', 'reordered', 'product_name',\n",
       "       'aisle_id', 'department_id', 'prices', '_merge', 'busy_days',\n",
       "       'busiest_period_of_day', 'max_order', 'loyalty_flag', 'customer_type',\n",
       "       'average_spending', 'spending_type', 'order_frequency',\n",
       "       'Order regularity', 'customer type'],\n",
       "      dtype='object')"
      ]
     },
     "execution_count": 31,
     "metadata": {},
     "output_type": "execute_result"
    }
   ],
   "source": [
    "df_ords_prods_cust.columns"
   ]
  },
  {
   "cell_type": "markdown",
   "id": "53755994-f30b-4c70-9c37-d66c78a55a4a",
   "metadata": {},
   "source": [
    "### **6. ADDITIONAL DATA CLEANING**"
   ]
  },
  {
   "cell_type": "code",
   "execution_count": 33,
   "id": "210cff9d-a60a-4e16-be03-55c6eca92787",
   "metadata": {},
   "outputs": [],
   "source": [
    "# rename columns \n",
    "df_ords_prods_cust.rename(columns = {'First_order':'first_order'}, inplace = True)"
   ]
  },
  {
   "cell_type": "code",
   "execution_count": 34,
   "id": "8fdc9539-f07e-4f43-b49f-4cfbb68f60bf",
   "metadata": {},
   "outputs": [],
   "source": [
    "# drop duplicate columns\n",
    "df_ords_prods_cust = df_ords_prods_cust.drop(columns=['customer_type'])"
   ]
  },
  {
   "cell_type": "code",
   "execution_count": 35,
   "id": "d14a2ee7-3205-4810-8b9e-5ce0014df41f",
   "metadata": {},
   "outputs": [],
   "source": [
    "# drop obsolete columns\n",
    "df_ords_prods_cust = df_ords_prods_cust.drop(columns=['_merge', 'Order regularity'])"
   ]
  },
  {
   "cell_type": "code",
   "execution_count": 36,
   "id": "bb685be3-9a55-4561-9637-772dcb4e3fa5",
   "metadata": {},
   "outputs": [],
   "source": [
    "# reformatting customer type \n",
    "df_ords_prods_cust.rename(columns = {'customer type':'customer_type'}, inplace = True)"
   ]
  },
  {
   "cell_type": "code",
   "execution_count": 37,
   "id": "3ce09e93-3fee-44b4-a315-b99a88525243",
   "metadata": {},
   "outputs": [
    {
     "data": {
      "text/plain": [
       "Index(['user_id', 'm/f', 'state', 'age', 'date_joined', 'n_dependants',\n",
       "       'maritial_status', 'income', 'order_number', 'orders_day_of_week',\n",
       "       'order_hour_of_day', 'days_since_last_order', 'first_order',\n",
       "       'product_id', 'add_to_cart_order', 'reordered', 'product_name',\n",
       "       'aisle_id', 'department_id', 'prices', 'busy_days',\n",
       "       'busiest_period_of_day', 'max_order', 'loyalty_flag',\n",
       "       'average_spending', 'spending_type', 'order_frequency',\n",
       "       'customer_type'],\n",
       "      dtype='object')"
      ]
     },
     "execution_count": 37,
     "metadata": {},
     "output_type": "execute_result"
    }
   ],
   "source": [
    "#checking df\n",
    "df_ords_prods_cust.columns"
   ]
  },
  {
   "cell_type": "markdown",
   "id": "5299d05c-803d-4c20-b910-600a3a33635d",
   "metadata": {},
   "source": [
    "### **7. SAVING & EXPORTING**"
   ]
  },
  {
   "cell_type": "code",
   "execution_count": 39,
   "id": "86689a09-f71c-4be5-8d00-94718ad46cde",
   "metadata": {},
   "outputs": [],
   "source": [
    "#exporting df as pickle\n",
    "df_ords_prods_cust.to_pickle(os.path.join(path, '02 Data','Prepared Data', 'ords_prods_cust.pkl'))"
   ]
  }
 ],
 "metadata": {
  "kernelspec": {
   "display_name": "Python 3 (ipykernel)",
   "language": "python",
   "name": "python3"
  },
  "language_info": {
   "codemirror_mode": {
    "name": "ipython",
    "version": 3
   },
   "file_extension": ".py",
   "mimetype": "text/x-python",
   "name": "python",
   "nbconvert_exporter": "python",
   "pygments_lexer": "ipython3",
   "version": "3.12.4"
  }
 },
 "nbformat": 4,
 "nbformat_minor": 5
}
