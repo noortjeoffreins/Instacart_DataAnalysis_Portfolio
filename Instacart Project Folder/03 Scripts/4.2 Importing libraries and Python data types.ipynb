{
 "cells": [
  {
   "cell_type": "markdown",
   "id": "1d312edf-0448-4950-b4f8-477cd5e36e7e",
   "metadata": {},
   "source": [
    "### **INDEX**\n",
    "1. Setup Notebook\n",
    "2. Data Types"
   ]
  },
  {
   "cell_type": "markdown",
   "id": "773e88bd-dd80-4509-8255-a5517d686a2b",
   "metadata": {},
   "source": [
    " . . . . . . . . . . . . . . . . . . . . . . . . . . . . . . . . . . . . . . . . . . . . . . . . . . . . . . . . . . . . . . . . . . . . . . . . . . . . . . . . . . . . . . . . . . . . . . . . . . . . . . . . . . . . . . . ."
   ]
  },
  {
   "cell_type": "markdown",
   "id": "152ef773-ef14-44f0-8211-aaace634a3c8",
   "metadata": {},
   "source": [
    "### **1. SETUP NOTEBOOK**"
   ]
  },
  {
   "cell_type": "code",
   "execution_count": 7,
   "id": "53c6f2ee-ca0c-4c47-bf3d-a870e721e257",
   "metadata": {},
   "outputs": [],
   "source": [
    "# importing libraries\n",
    "import pandas as pd\n",
    "import numpy as np\n",
    "import os"
   ]
  },
  {
   "cell_type": "markdown",
   "id": "0b60721d-0880-4852-8c69-ffa1656c20e4",
   "metadata": {},
   "source": [
    " . . . . . . . . . . . . . . . . . . . . . . . . . . . . . . . . . . . . . . . . . . . . . . . . . . . . . . . . . . . . . . . . . . . . . . . . . . . . . . . . . . . . . . . . . . . . . . . . . . . . . . . . . . . . . . . ."
   ]
  },
  {
   "cell_type": "markdown",
   "id": "7f713041-7fff-4d58-814d-5c5222619d48",
   "metadata": {},
   "source": [
    "### **2. DATA TYPES**"
   ]
  },
  {
   "cell_type": "markdown",
   "id": "94969dfb-0cc8-4f57-958c-623039c5b6c1",
   "metadata": {},
   "source": [
    "**2.1 THREE WAYS TO REACH 100**"
   ]
  },
  {
   "cell_type": "code",
   "execution_count": 19,
   "id": "2d27ecfa-f299-484b-8877-077d922a37c4",
   "metadata": {},
   "outputs": [],
   "source": [
    "# 1 dividing\n",
    "x=200"
   ]
  },
  {
   "cell_type": "code",
   "execution_count": 23,
   "id": "45656344-7f5a-46ee-8589-e30843c0967d",
   "metadata": {},
   "outputs": [
    {
     "data": {
      "text/plain": [
       "100.0"
      ]
     },
     "execution_count": 23,
     "metadata": {},
     "output_type": "execute_result"
    }
   ],
   "source": [
    "x/2"
   ]
  },
  {
   "cell_type": "code",
   "execution_count": 17,
   "id": "e1b7a564-b1e0-49c3-8895-98007299e006",
   "metadata": {},
   "outputs": [],
   "source": [
    "# 2 multiplying\n",
    "y=50"
   ]
  },
  {
   "cell_type": "code",
   "execution_count": 27,
   "id": "f646186a-204a-47a0-a0c0-4cffe48d4517",
   "metadata": {},
   "outputs": [
    {
     "data": {
      "text/plain": [
       "100"
      ]
     },
     "execution_count": 27,
     "metadata": {},
     "output_type": "execute_result"
    }
   ],
   "source": [
    "2*y"
   ]
  },
  {
   "cell_type": "code",
   "execution_count": 15,
   "id": "f1970e2c-8d92-4863-bcac-daa87047e66b",
   "metadata": {},
   "outputs": [],
   "source": [
    "# 3 adding\n",
    "z=50"
   ]
  },
  {
   "cell_type": "code",
   "execution_count": 31,
   "id": "2bebb33f-312a-401d-9d8d-8ce88818a39d",
   "metadata": {},
   "outputs": [
    {
     "data": {
      "text/plain": [
       "100"
      ]
     },
     "execution_count": 31,
     "metadata": {},
     "output_type": "execute_result"
    }
   ],
   "source": [
    "z+z"
   ]
  },
  {
   "cell_type": "markdown",
   "id": "61951b1f-74bb-4f3e-97a8-3e68c10209c0",
   "metadata": {},
   "source": [
    " . . . . . . . . . . . . . . . . . . . . . . . . . . . . . . . . . . . . . . . . . . . . . . . . . . . . . . . . . . . . . . . . . . . . . . . . . . . . . . . . . . . . . . . . . . . . . . . . . . . . . . . . . . . . . . . ."
   ]
  },
  {
   "cell_type": "code",
   "execution_count": 33,
   "id": "3215c14e-523f-4337-8718-aba642dbc287",
   "metadata": {},
   "outputs": [],
   "source": [
    "# deviding 2 floats\n",
    "a=6.43\n",
    "b=8.221"
   ]
  },
  {
   "cell_type": "code",
   "execution_count": 35,
   "id": "22346900-1992-41ab-a625-424cad616ce9",
   "metadata": {},
   "outputs": [
    {
     "data": {
      "text/plain": [
       "0.7821432915703685"
      ]
     },
     "execution_count": 35,
     "metadata": {},
     "output_type": "execute_result"
    }
   ],
   "source": [
    "a/b"
   ]
  },
  {
   "cell_type": "markdown",
   "id": "a62c2eb2-1dde-4ec5-84c5-1dfa534cf615",
   "metadata": {},
   "source": [
    " . . . . . . . . . . . . . . . . . . . . . . . . . . . . . . . . . . . . . . . . . . . . . . . . . . . . . . . . . . . . . . . . . . . . . . . . . . . . . . . . . . . . . . . . . . . . . . . . . . . . . . . . . . . . . . . ."
   ]
  },
  {
   "cell_type": "code",
   "execution_count": 57,
   "id": "5d5317f9-4403-47fb-8172-b9940ca5dd45",
   "metadata": {},
   "outputs": [],
   "source": [
    "# constructing words"
   ]
  },
  {
   "cell_type": "code",
   "execution_count": 59,
   "id": "b20af520-7066-4215-a4e8-5da7a9ea2729",
   "metadata": {},
   "outputs": [],
   "source": [
    "a = 'Hello '\n",
    "b = 'Halima'\n",
    "c = ' :)'"
   ]
  },
  {
   "cell_type": "code",
   "execution_count": 61,
   "id": "b895f46f-4def-448b-ab20-22d07ea44ac7",
   "metadata": {},
   "outputs": [
    {
     "data": {
      "text/plain": [
       "'Hello Halima :)'"
      ]
     },
     "execution_count": 61,
     "metadata": {},
     "output_type": "execute_result"
    }
   ],
   "source": [
    "a + b + c"
   ]
  },
  {
   "cell_type": "markdown",
   "id": "d12ddb1a-3872-484f-9ff8-9ba3dc18803f",
   "metadata": {},
   "source": [
    " . . . . . . . . . . . . . . . . . . . . . . . . . . . . . . . . . . . . . . . . . . . . . . . . . . . . . . . . . . . . . . . . . . . . . . . . . . . . . . . . . . . . . . . . . . . . . . . . . . . . . . . . . . . . . . . ."
   ]
  },
  {
   "cell_type": "code",
   "execution_count": null,
   "id": "3c468e5a-212c-4d44-9053-e1c93858c830",
   "metadata": {},
   "outputs": [],
   "source": [
    "# constructing sentences "
   ]
  },
  {
   "cell_type": "code",
   "execution_count": 69,
   "id": "ae21d856-9014-4733-bb7c-ce834ced71be",
   "metadata": {},
   "outputs": [],
   "source": [
    "a = 'I am learning python, '\n",
    "b = 'and I am exicted to see '\n",
    "c = 'all the things I will be creating.'\n",
    "d = ' Though I must admit, '\n",
    "e = 'I have a fear of snakes '\n",
    "f = 'and look forward to work with pandas too.'"
   ]
  },
  {
   "cell_type": "code",
   "execution_count": 71,
   "id": "7b886f9a-c144-4ca5-bf83-250d163ef08b",
   "metadata": {},
   "outputs": [
    {
     "data": {
      "text/plain": [
       "'I am learning python, and I am exicted to see all the things I will be creating. Though I must admit, I have a fear of snakes and look forward to work with pandas too.'"
      ]
     },
     "execution_count": 71,
     "metadata": {},
     "output_type": "execute_result"
    }
   ],
   "source": [
    "a + b + c + d + e + f"
   ]
  },
  {
   "cell_type": "markdown",
   "id": "9406b954-7327-4000-9b67-574e7ea3a9ba",
   "metadata": {},
   "source": [
    " . . . . . . . . . . . . . . . . . . . . . . . . . . . . . . . . . . . . . . . . . . . . . . . . . . . . . . . . . . . . . . . . . . . . . . . . . . . . . . . . . . . . . . . . . . . . . . . . . . . . . . . . . . . . . . . ."
   ]
  },
  {
   "cell_type": "code",
   "execution_count": 27,
   "id": "31b4a864-bfae-4fff-9071-10abfd9995d6",
   "metadata": {},
   "outputs": [],
   "source": [
    "# bonus task"
   ]
  },
  {
   "cell_type": "code",
   "execution_count": 77,
   "id": "a06b5913-41e7-4683-9b0f-836dfc9de12b",
   "metadata": {},
   "outputs": [],
   "source": [
    "a = 'level'"
   ]
  },
  {
   "cell_type": "code",
   "execution_count": 79,
   "id": "ced96be7-c59c-4150-ae0d-bc3932a269de",
   "metadata": {},
   "outputs": [
    {
     "data": {
      "text/plain": [
       "'levellevellevellevellevellevellevellevellevellevellevellevellevellevellevellevellevellevellevellevellevellevellevellevellevellevellevellevellevellevellevellevellevellevellevellevellevellevellevellevellevellevellevellevellevellevellevellevellevellevellevellevellevellevellevellevellevellevellevellevellevellevellevellevellevellevellevellevellevellevellevellevellevellevellevellevellevellevellevellevellevellevellevellevellevellevellevellevellevellevellevellevellevellevellevellevellevellevellevellevel'"
      ]
     },
     "execution_count": 79,
     "metadata": {},
     "output_type": "execute_result"
    }
   ],
   "source": [
    "100*a"
   ]
  }
 ],
 "metadata": {
  "kernelspec": {
   "display_name": "Python 3 (ipykernel)",
   "language": "python",
   "name": "python3"
  },
  "language_info": {
   "codemirror_mode": {
    "name": "ipython",
    "version": 3
   },
   "file_extension": ".py",
   "mimetype": "text/x-python",
   "name": "python",
   "nbconvert_exporter": "python",
   "pygments_lexer": "ipython3",
   "version": "3.12.4"
  }
 },
 "nbformat": 4,
 "nbformat_minor": 5
}
